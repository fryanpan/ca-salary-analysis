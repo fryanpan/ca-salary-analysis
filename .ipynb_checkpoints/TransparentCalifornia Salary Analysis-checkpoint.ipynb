{
 "cells": [
  {
   "cell_type": "markdown",
   "metadata": {},
   "source": [
    "# Review Data from TransparentCalifornia"
   ]
  },
  {
   "cell_type": "code",
   "execution_count": 115,
   "metadata": {},
   "outputs": [
    {
     "name": "stdout",
     "output_type": "stream",
     "text": [
      "Requirement already satisfied: pandas in /Users/bryanchan/.pyenv/versions/3.7.7/lib/python3.7/site-packages (1.1.1)\n",
      "Requirement already satisfied: matplotlib in /Users/bryanchan/.pyenv/versions/3.7.7/lib/python3.7/site-packages (3.3.1)\n",
      "Requirement already satisfied: ipywidgets in /Users/bryanchan/.pyenv/versions/3.7.7/lib/python3.7/site-packages (7.5.1)\n",
      "Requirement already satisfied: scipy in /Users/bryanchan/.pyenv/versions/3.7.7/lib/python3.7/site-packages (1.5.2)\n",
      "Requirement already satisfied: pandas_profiling in /Users/bryanchan/.pyenv/versions/3.7.7/lib/python3.7/site-packages (2.8.0)\n",
      "Requirement already satisfied: genderize in /Users/bryanchan/.pyenv/versions/3.7.7/lib/python3.7/site-packages (0.3.1)\n",
      "Requirement already satisfied: gender_guesser in /Users/bryanchan/.pyenv/versions/3.7.7/lib/python3.7/site-packages (0.4.0)\n",
      "Requirement already satisfied: seaborn in /Users/bryanchan/.pyenv/versions/3.7.7/lib/python3.7/site-packages (0.10.1)\n",
      "Requirement already satisfied: statsmodels in /Users/bryanchan/.pyenv/versions/3.7.7/lib/python3.7/site-packages (0.11.1)\n",
      "Requirement already satisfied: pytz>=2017.2 in /Users/bryanchan/.pyenv/versions/3.7.7/lib/python3.7/site-packages (from pandas) (2020.1)\n",
      "Requirement already satisfied: python-dateutil>=2.7.3 in /Users/bryanchan/.pyenv/versions/3.7.7/lib/python3.7/site-packages (from pandas) (2.8.1)\n",
      "Requirement already satisfied: numpy>=1.15.4 in /Users/bryanchan/.pyenv/versions/3.7.7/lib/python3.7/site-packages (from pandas) (1.19.1)\n",
      "Requirement already satisfied: cycler>=0.10 in /Users/bryanchan/.pyenv/versions/3.7.7/lib/python3.7/site-packages (from matplotlib) (0.10.0)\n",
      "Requirement already satisfied: kiwisolver>=1.0.1 in /Users/bryanchan/.pyenv/versions/3.7.7/lib/python3.7/site-packages (from matplotlib) (1.2.0)\n",
      "Requirement already satisfied: pillow>=6.2.0 in /Users/bryanchan/.pyenv/versions/3.7.7/lib/python3.7/site-packages (from matplotlib) (7.2.0)\n",
      "Requirement already satisfied: certifi>=2020.06.20 in /Users/bryanchan/.pyenv/versions/3.7.7/lib/python3.7/site-packages (from matplotlib) (2020.6.20)\n",
      "Requirement already satisfied: pyparsing!=2.0.4,!=2.1.2,!=2.1.6,>=2.0.3 in /Users/bryanchan/.pyenv/versions/3.7.7/lib/python3.7/site-packages (from matplotlib) (2.4.7)\n",
      "Requirement already satisfied: ipython>=4.0.0; python_version >= \"3.3\" in /Users/bryanchan/.pyenv/versions/3.7.7/lib/python3.7/site-packages (from ipywidgets) (7.17.0)\n",
      "Requirement already satisfied: traitlets>=4.3.1 in /Users/bryanchan/.pyenv/versions/3.7.7/lib/python3.7/site-packages (from ipywidgets) (4.3.3)\n",
      "Requirement already satisfied: widgetsnbextension~=3.5.0 in /Users/bryanchan/.pyenv/versions/3.7.7/lib/python3.7/site-packages (from ipywidgets) (3.5.1)\n",
      "Requirement already satisfied: nbformat>=4.2.0 in /Users/bryanchan/.pyenv/versions/3.7.7/lib/python3.7/site-packages (from ipywidgets) (5.0.7)\n",
      "Requirement already satisfied: ipykernel>=4.5.1 in /Users/bryanchan/.pyenv/versions/3.7.7/lib/python3.7/site-packages (from ipywidgets) (5.3.4)\n",
      "Requirement already satisfied: visions[type_image_path]==0.4.4 in /Users/bryanchan/.pyenv/versions/3.7.7/lib/python3.7/site-packages (from pandas_profiling) (0.4.4)\n",
      "Requirement already satisfied: tangled-up-in-unicode>=0.0.6 in /Users/bryanchan/.pyenv/versions/3.7.7/lib/python3.7/site-packages (from pandas_profiling) (0.0.6)\n",
      "Requirement already satisfied: tqdm>=4.43.0 in /Users/bryanchan/.pyenv/versions/3.7.7/lib/python3.7/site-packages (from pandas_profiling) (4.48.2)\n",
      "Requirement already satisfied: missingno>=0.4.2 in /Users/bryanchan/.pyenv/versions/3.7.7/lib/python3.7/site-packages (from pandas_profiling) (0.4.2)\n",
      "Requirement already satisfied: astropy>=4.0 in /Users/bryanchan/.pyenv/versions/3.7.7/lib/python3.7/site-packages (from pandas_profiling) (4.0.1.post1)\n",
      "Requirement already satisfied: phik>=0.9.10 in /Users/bryanchan/.pyenv/versions/3.7.7/lib/python3.7/site-packages (from pandas_profiling) (0.10.0)\n",
      "Requirement already satisfied: jinja2>=2.11.1 in /Users/bryanchan/.pyenv/versions/3.7.7/lib/python3.7/site-packages (from pandas_profiling) (2.11.2)\n",
      "Requirement already satisfied: htmlmin>=0.1.12 in /Users/bryanchan/.pyenv/versions/3.7.7/lib/python3.7/site-packages (from pandas_profiling) (0.1.12)\n",
      "Requirement already satisfied: joblib in /Users/bryanchan/.pyenv/versions/3.7.7/lib/python3.7/site-packages (from pandas_profiling) (0.16.0)\n",
      "Requirement already satisfied: requests>=2.23.0 in /Users/bryanchan/.pyenv/versions/3.7.7/lib/python3.7/site-packages (from pandas_profiling) (2.24.0)\n",
      "Requirement already satisfied: confuse>=1.0.0 in /Users/bryanchan/.pyenv/versions/3.7.7/lib/python3.7/site-packages (from pandas_profiling) (1.3.0)\n",
      "Requirement already satisfied: patsy>=0.5 in /Users/bryanchan/.pyenv/versions/3.7.7/lib/python3.7/site-packages (from statsmodels) (0.5.1)\n",
      "Requirement already satisfied: six>=1.5 in /Users/bryanchan/.pyenv/versions/3.7.7/lib/python3.7/site-packages (from python-dateutil>=2.7.3->pandas) (1.15.0)\n",
      "Requirement already satisfied: pygments in /Users/bryanchan/.pyenv/versions/3.7.7/lib/python3.7/site-packages (from ipython>=4.0.0; python_version >= \"3.3\"->ipywidgets) (2.6.1)\n",
      "Requirement already satisfied: decorator in /Users/bryanchan/.pyenv/versions/3.7.7/lib/python3.7/site-packages (from ipython>=4.0.0; python_version >= \"3.3\"->ipywidgets) (4.4.2)\n",
      "Requirement already satisfied: jedi>=0.10 in /Users/bryanchan/.pyenv/versions/3.7.7/lib/python3.7/site-packages (from ipython>=4.0.0; python_version >= \"3.3\"->ipywidgets) (0.17.2)\n",
      "Requirement already satisfied: setuptools>=18.5 in /Users/bryanchan/.pyenv/versions/3.7.7/lib/python3.7/site-packages (from ipython>=4.0.0; python_version >= \"3.3\"->ipywidgets) (41.2.0)\n",
      "Requirement already satisfied: pexpect; sys_platform != \"win32\" in /Users/bryanchan/.pyenv/versions/3.7.7/lib/python3.7/site-packages (from ipython>=4.0.0; python_version >= \"3.3\"->ipywidgets) (4.8.0)\n",
      "Requirement already satisfied: backcall in /Users/bryanchan/.pyenv/versions/3.7.7/lib/python3.7/site-packages (from ipython>=4.0.0; python_version >= \"3.3\"->ipywidgets) (0.2.0)\n",
      "Requirement already satisfied: appnope; sys_platform == \"darwin\" in /Users/bryanchan/.pyenv/versions/3.7.7/lib/python3.7/site-packages (from ipython>=4.0.0; python_version >= \"3.3\"->ipywidgets) (0.1.0)\n",
      "Requirement already satisfied: pickleshare in /Users/bryanchan/.pyenv/versions/3.7.7/lib/python3.7/site-packages (from ipython>=4.0.0; python_version >= \"3.3\"->ipywidgets) (0.7.5)\n",
      "Requirement already satisfied: prompt-toolkit!=3.0.0,!=3.0.1,<3.1.0,>=2.0.0 in /Users/bryanchan/.pyenv/versions/3.7.7/lib/python3.7/site-packages (from ipython>=4.0.0; python_version >= \"3.3\"->ipywidgets) (3.0.6)\n",
      "Requirement already satisfied: ipython-genutils in /Users/bryanchan/.pyenv/versions/3.7.7/lib/python3.7/site-packages (from traitlets>=4.3.1->ipywidgets) (0.2.0)\n",
      "Requirement already satisfied: notebook>=4.4.1 in /Users/bryanchan/.pyenv/versions/3.7.7/lib/python3.7/site-packages (from widgetsnbextension~=3.5.0->ipywidgets) (6.1.3)\n",
      "Requirement already satisfied: jupyter-core in /Users/bryanchan/.pyenv/versions/3.7.7/lib/python3.7/site-packages (from nbformat>=4.2.0->ipywidgets) (4.6.3)\n",
      "Requirement already satisfied: jsonschema!=2.5.0,>=2.4 in /Users/bryanchan/.pyenv/versions/3.7.7/lib/python3.7/site-packages (from nbformat>=4.2.0->ipywidgets) (3.2.0)\n",
      "Requirement already satisfied: jupyter-client in /Users/bryanchan/.pyenv/versions/3.7.7/lib/python3.7/site-packages (from ipykernel>=4.5.1->ipywidgets) (6.1.6)\n",
      "Requirement already satisfied: tornado>=4.2 in /Users/bryanchan/.pyenv/versions/3.7.7/lib/python3.7/site-packages (from ipykernel>=4.5.1->ipywidgets) (6.0.4)\n",
      "Requirement already satisfied: networkx>=2.4 in /Users/bryanchan/.pyenv/versions/3.7.7/lib/python3.7/site-packages (from visions[type_image_path]==0.4.4->pandas_profiling) (2.5)\n",
      "Requirement already satisfied: attrs>=19.3.0 in /Users/bryanchan/.pyenv/versions/3.7.7/lib/python3.7/site-packages (from visions[type_image_path]==0.4.4->pandas_profiling) (20.1.0)\n",
      "Requirement already satisfied: imagehash; extra == \"type_image_path\" in /Users/bryanchan/.pyenv/versions/3.7.7/lib/python3.7/site-packages (from visions[type_image_path]==0.4.4->pandas_profiling) (4.1.0)\n",
      "Requirement already satisfied: numba>=0.38.1 in /Users/bryanchan/.pyenv/versions/3.7.7/lib/python3.7/site-packages (from phik>=0.9.10->pandas_profiling) (0.51.0)\n",
      "Requirement already satisfied: MarkupSafe>=0.23 in /Users/bryanchan/.pyenv/versions/3.7.7/lib/python3.7/site-packages (from jinja2>=2.11.1->pandas_profiling) (1.1.1)\n",
      "Requirement already satisfied: urllib3!=1.25.0,!=1.25.1,<1.26,>=1.21.1 in /Users/bryanchan/.pyenv/versions/3.7.7/lib/python3.7/site-packages (from requests>=2.23.0->pandas_profiling) (1.25.10)\n",
      "Requirement already satisfied: idna<3,>=2.5 in /Users/bryanchan/.pyenv/versions/3.7.7/lib/python3.7/site-packages (from requests>=2.23.0->pandas_profiling) (2.10)\n"
     ]
    },
    {
     "name": "stdout",
     "output_type": "stream",
     "text": [
      "Requirement already satisfied: chardet<4,>=3.0.2 in /Users/bryanchan/.pyenv/versions/3.7.7/lib/python3.7/site-packages (from requests>=2.23.0->pandas_profiling) (3.0.4)\n",
      "Requirement already satisfied: pyyaml in /Users/bryanchan/.pyenv/versions/3.7.7/lib/python3.7/site-packages (from confuse>=1.0.0->pandas_profiling) (5.3.1)\n",
      "Requirement already satisfied: parso<0.8.0,>=0.7.0 in /Users/bryanchan/.pyenv/versions/3.7.7/lib/python3.7/site-packages (from jedi>=0.10->ipython>=4.0.0; python_version >= \"3.3\"->ipywidgets) (0.7.1)\n",
      "Requirement already satisfied: ptyprocess>=0.5 in /Users/bryanchan/.pyenv/versions/3.7.7/lib/python3.7/site-packages (from pexpect; sys_platform != \"win32\"->ipython>=4.0.0; python_version >= \"3.3\"->ipywidgets) (0.6.0)\n",
      "Requirement already satisfied: wcwidth in /Users/bryanchan/.pyenv/versions/3.7.7/lib/python3.7/site-packages (from prompt-toolkit!=3.0.0,!=3.0.1,<3.1.0,>=2.0.0->ipython>=4.0.0; python_version >= \"3.3\"->ipywidgets) (0.2.5)\n",
      "Requirement already satisfied: nbconvert in /Users/bryanchan/.pyenv/versions/3.7.7/lib/python3.7/site-packages (from notebook>=4.4.1->widgetsnbextension~=3.5.0->ipywidgets) (5.6.1)\n",
      "Requirement already satisfied: terminado>=0.8.3 in /Users/bryanchan/.pyenv/versions/3.7.7/lib/python3.7/site-packages (from notebook>=4.4.1->widgetsnbextension~=3.5.0->ipywidgets) (0.8.3)\n",
      "Requirement already satisfied: prometheus-client in /Users/bryanchan/.pyenv/versions/3.7.7/lib/python3.7/site-packages (from notebook>=4.4.1->widgetsnbextension~=3.5.0->ipywidgets) (0.8.0)\n",
      "Requirement already satisfied: argon2-cffi in /Users/bryanchan/.pyenv/versions/3.7.7/lib/python3.7/site-packages (from notebook>=4.4.1->widgetsnbextension~=3.5.0->ipywidgets) (20.1.0)\n",
      "Requirement already satisfied: Send2Trash in /Users/bryanchan/.pyenv/versions/3.7.7/lib/python3.7/site-packages (from notebook>=4.4.1->widgetsnbextension~=3.5.0->ipywidgets) (1.5.0)\n",
      "Requirement already satisfied: pyzmq>=17 in /Users/bryanchan/.pyenv/versions/3.7.7/lib/python3.7/site-packages (from notebook>=4.4.1->widgetsnbextension~=3.5.0->ipywidgets) (19.0.2)\n",
      "Requirement already satisfied: importlib-metadata; python_version < \"3.8\" in /Users/bryanchan/.pyenv/versions/3.7.7/lib/python3.7/site-packages (from jsonschema!=2.5.0,>=2.4->nbformat>=4.2.0->ipywidgets) (1.7.0)\n",
      "Requirement already satisfied: pyrsistent>=0.14.0 in /Users/bryanchan/.pyenv/versions/3.7.7/lib/python3.7/site-packages (from jsonschema!=2.5.0,>=2.4->nbformat>=4.2.0->ipywidgets) (0.16.0)\n",
      "Requirement already satisfied: PyWavelets in /Users/bryanchan/.pyenv/versions/3.7.7/lib/python3.7/site-packages (from imagehash; extra == \"type_image_path\"->visions[type_image_path]==0.4.4->pandas_profiling) (1.1.1)\n",
      "Requirement already satisfied: llvmlite<0.35,>=0.34.0.dev0 in /Users/bryanchan/.pyenv/versions/3.7.7/lib/python3.7/site-packages (from numba>=0.38.1->phik>=0.9.10->pandas_profiling) (0.34.0)\n",
      "Requirement already satisfied: entrypoints>=0.2.2 in /Users/bryanchan/.pyenv/versions/3.7.7/lib/python3.7/site-packages (from nbconvert->notebook>=4.4.1->widgetsnbextension~=3.5.0->ipywidgets) (0.3)\n",
      "Requirement already satisfied: bleach in /Users/bryanchan/.pyenv/versions/3.7.7/lib/python3.7/site-packages (from nbconvert->notebook>=4.4.1->widgetsnbextension~=3.5.0->ipywidgets) (3.1.5)\n",
      "Requirement already satisfied: pandocfilters>=1.4.1 in /Users/bryanchan/.pyenv/versions/3.7.7/lib/python3.7/site-packages (from nbconvert->notebook>=4.4.1->widgetsnbextension~=3.5.0->ipywidgets) (1.4.2)\n",
      "Requirement already satisfied: mistune<2,>=0.8.1 in /Users/bryanchan/.pyenv/versions/3.7.7/lib/python3.7/site-packages (from nbconvert->notebook>=4.4.1->widgetsnbextension~=3.5.0->ipywidgets) (0.8.4)\n",
      "Requirement already satisfied: defusedxml in /Users/bryanchan/.pyenv/versions/3.7.7/lib/python3.7/site-packages (from nbconvert->notebook>=4.4.1->widgetsnbextension~=3.5.0->ipywidgets) (0.6.0)\n",
      "Requirement already satisfied: testpath in /Users/bryanchan/.pyenv/versions/3.7.7/lib/python3.7/site-packages (from nbconvert->notebook>=4.4.1->widgetsnbextension~=3.5.0->ipywidgets) (0.4.4)\n",
      "Requirement already satisfied: cffi>=1.0.0 in /Users/bryanchan/.pyenv/versions/3.7.7/lib/python3.7/site-packages (from argon2-cffi->notebook>=4.4.1->widgetsnbextension~=3.5.0->ipywidgets) (1.14.2)\n",
      "Requirement already satisfied: zipp>=0.5 in /Users/bryanchan/.pyenv/versions/3.7.7/lib/python3.7/site-packages (from importlib-metadata; python_version < \"3.8\"->jsonschema!=2.5.0,>=2.4->nbformat>=4.2.0->ipywidgets) (3.1.0)\n",
      "Requirement already satisfied: webencodings in /Users/bryanchan/.pyenv/versions/3.7.7/lib/python3.7/site-packages (from bleach->nbconvert->notebook>=4.4.1->widgetsnbextension~=3.5.0->ipywidgets) (0.5.1)\n",
      "Requirement already satisfied: packaging in /Users/bryanchan/.pyenv/versions/3.7.7/lib/python3.7/site-packages (from bleach->nbconvert->notebook>=4.4.1->widgetsnbextension~=3.5.0->ipywidgets) (20.4)\n",
      "Requirement already satisfied: pycparser in /Users/bryanchan/.pyenv/versions/3.7.7/lib/python3.7/site-packages (from cffi>=1.0.0->argon2-cffi->notebook>=4.4.1->widgetsnbextension~=3.5.0->ipywidgets) (2.20)\n",
      "\u001b[33mWARNING: You are using pip version 19.2.3, however version 20.2.2 is available.\n",
      "You should consider upgrading via the 'pip install --upgrade pip' command.\u001b[0m\n"
     ]
    }
   ],
   "source": [
    "import sys\n",
    "!{sys.executable} -m pip install pandas matplotlib ipywidgets scipy pandas_profiling genderize gender_guesser seaborn statsmodels\n",
    "\n",
    "import requests\n",
    "from io import StringIO\n",
    "import pandas as pd\n",
    "from pandas_profiling import ProfileReport\n",
    "import matplotlib\n",
    "%matplotlib inline\n",
    "from genderize import Genderize\n",
    "import gender_guesser.detector as gender\n",
    "import seaborn as sns\n",
    "import matplotlib.pyplot as plt\n",
    "import statsmodels\n"
   ]
  },
  {
   "cell_type": "code",
   "execution_count": 2,
   "metadata": {},
   "outputs": [
    {
     "name": "stderr",
     "output_type": "stream",
     "text": [
      "/Users/bryanchan/.pyenv/versions/3.7.7/lib/python3.7/site-packages/pandas/core/computation/expressions.py:68: FutureWarning: elementwise comparison failed; returning scalar instead, but in the future will perform elementwise comparison\n",
      "  return op(a, b)\n"
     ]
    },
    {
     "name": "stdout",
     "output_type": "stream",
     "text": [
      "Year 2011 Rows 246599\n"
     ]
    },
    {
     "name": "stderr",
     "output_type": "stream",
     "text": [
      "/Users/bryanchan/.pyenv/versions/3.7.7/lib/python3.7/site-packages/pandas/core/computation/expressions.py:68: FutureWarning: elementwise comparison failed; returning scalar instead, but in the future will perform elementwise comparison\n",
      "  return op(a, b)\n"
     ]
    },
    {
     "name": "stdout",
     "output_type": "stream",
     "text": [
      "Year 2012 Rows 244881\n"
     ]
    },
    {
     "name": "stderr",
     "output_type": "stream",
     "text": [
      "/Users/bryanchan/.pyenv/versions/3.7.7/lib/python3.7/site-packages/pandas/core/computation/expressions.py:68: FutureWarning: elementwise comparison failed; returning scalar instead, but in the future will perform elementwise comparison\n",
      "  return op(a, b)\n"
     ]
    },
    {
     "name": "stdout",
     "output_type": "stream",
     "text": [
      "Year 2013 Rows 235071\n"
     ]
    },
    {
     "name": "stderr",
     "output_type": "stream",
     "text": [
      "/Users/bryanchan/.pyenv/versions/3.7.7/lib/python3.7/site-packages/pandas/core/computation/expressions.py:68: FutureWarning: elementwise comparison failed; returning scalar instead, but in the future will perform elementwise comparison\n",
      "  return op(a, b)\n"
     ]
    },
    {
     "name": "stdout",
     "output_type": "stream",
     "text": [
      "Year 2014 Rows 240531\n"
     ]
    },
    {
     "name": "stderr",
     "output_type": "stream",
     "text": [
      "/Users/bryanchan/.pyenv/versions/3.7.7/lib/python3.7/site-packages/pandas/core/computation/expressions.py:68: FutureWarning: elementwise comparison failed; returning scalar instead, but in the future will perform elementwise comparison\n",
      "  return op(a, b)\n"
     ]
    },
    {
     "name": "stdout",
     "output_type": "stream",
     "text": [
      "Year 2015 Rows 246273\n"
     ]
    },
    {
     "name": "stderr",
     "output_type": "stream",
     "text": [
      "/Users/bryanchan/.pyenv/versions/3.7.7/lib/python3.7/site-packages/IPython/core/interactiveshell.py:3146: DtypeWarning: Columns (2) have mixed types.Specify dtype option on import or set low_memory=False.\n",
      "  interactivity=interactivity, compiler=compiler, result=result)\n"
     ]
    },
    {
     "name": "stdout",
     "output_type": "stream",
     "text": [
      "Year 2016 Rows 248272\n"
     ]
    },
    {
     "name": "stderr",
     "output_type": "stream",
     "text": [
      "/Users/bryanchan/.pyenv/versions/3.7.7/lib/python3.7/site-packages/pandas/core/computation/expressions.py:68: FutureWarning: elementwise comparison failed; returning scalar instead, but in the future will perform elementwise comparison\n",
      "  return op(a, b)\n"
     ]
    },
    {
     "name": "stdout",
     "output_type": "stream",
     "text": [
      "Year 2017 Rows 247697\n"
     ]
    },
    {
     "name": "stderr",
     "output_type": "stream",
     "text": [
      "/Users/bryanchan/.pyenv/versions/3.7.7/lib/python3.7/site-packages/pandas/core/computation/expressions.py:68: FutureWarning: elementwise comparison failed; returning scalar instead, but in the future will perform elementwise comparison\n",
      "  return op(a, b)\n"
     ]
    },
    {
     "name": "stdout",
     "output_type": "stream",
     "text": [
      "Year 2018 Rows 253503\n"
     ]
    },
    {
     "name": "stderr",
     "output_type": "stream",
     "text": [
      "/Users/bryanchan/.pyenv/versions/3.7.7/lib/python3.7/site-packages/pandas/core/computation/expressions.py:68: FutureWarning: elementwise comparison failed; returning scalar instead, but in the future will perform elementwise comparison\n",
      "  return op(a, b)\n"
     ]
    },
    {
     "name": "stdout",
     "output_type": "stream",
     "text": [
      "Year 2019 Rows 260277\n"
     ]
    }
   ],
   "source": [
    "# Fetch data from publicpay.ca.gov\n",
    "df = None\n",
    "for year in range(2011,2020):    \n",
    "    year_df = pd.read_csv(f'state-of-california-{year}.csv.zip', compression='zip', \n",
    "                          usecols=['Employee Name', 'Job Title', 'Year', 'Base Pay'])\n",
    "    year_df = year_df[year_df['Base Pay'].ne('Not Provided')]\n",
    "    year_df['Base Pay'] = pd.to_numeric(year_df['Base Pay']).astype('float64')\n",
    "    year_df['Job Title'] = year_df['Job Title'].str.upper()\n",
    "    year_df['Employee Name'] = year_df['Employee Name'].str.title()\n",
    "    print(f'Year {year} Rows {len(year_df)}')\n",
    "    df = year_df if df is None else df.append(year_df)"
   ]
  },
  {
   "cell_type": "code",
   "execution_count": 3,
   "metadata": {},
   "outputs": [
    {
     "name": "stdout",
     "output_type": "stream",
     "text": [
      "Index(['Employee Name', 'Job Title', 'Base Pay', 'Year'], dtype='object')\n"
     ]
    }
   ],
   "source": [
    "print(df.columns)"
   ]
  },
  {
   "cell_type": "markdown",
   "metadata": {},
   "source": [
    "### Profiling Report"
   ]
  },
  {
   "cell_type": "code",
   "execution_count": 4,
   "metadata": {},
   "outputs": [],
   "source": [
    "# profile = ProfileReport(df, title='Pandas Profiling Report', explorative=True)\n",
    "# profile"
   ]
  },
  {
   "cell_type": "markdown",
   "metadata": {},
   "source": [
    "### Top 20 Job Titles"
   ]
  },
  {
   "cell_type": "code",
   "execution_count": 5,
   "metadata": {
    "scrolled": true
   },
   "outputs": [
    {
     "data": {
      "text/plain": [
       "<AxesSubplot:>"
      ]
     },
     "execution_count": 5,
     "metadata": {},
     "output_type": "execute_result"
    },
    {
     "data": {
      "image/png": "[encoded data removed]",
      "text/plain": [
       "<Figure size 432x288 with 1 Axes>"
      ]
     },
     "metadata": {
      "needs_background": "light"
     },
     "output_type": "display_data"
    }
   ],
   "source": [
    "df['Job Title'].value_counts()[0:20].plot(kind='barh')"
   ]
  },
  {
   "cell_type": "markdown",
   "metadata": {},
   "source": [
    "# Compute Genders"
   ]
  },
  {
   "cell_type": "code",
   "execution_count": 6,
   "metadata": {},
   "outputs": [],
   "source": [
    "df['First Name'] = df['Employee Name'].str.split(n=2).str[0]"
   ]
  },
  {
   "cell_type": "code",
   "execution_count": 7,
   "metadata": {},
   "outputs": [],
   "source": [
    "d = gender.Detector()\n",
    "df['Gender'] = df['First Name'].apply(lambda name: d.get_gender(name.title()))\n",
    "\n",
    "# Rate limited, so let's not use this for now\n",
    "# Genderize().get(df['First Name'])"
   ]
  },
  {
   "cell_type": "code",
   "execution_count": 8,
   "metadata": {},
   "outputs": [
    {
     "data": {
      "text/html": [
       "<div>\n",
       "<style scoped>\n",
       "    .dataframe tbody tr th:only-of-type {\n",
       "        vertical-align: middle;\n",
       "    }\n",
       "\n",
       "    .dataframe tbody tr th {\n",
       "        vertical-align: top;\n",
       "    }\n",
       "\n",
       "    .dataframe thead th {\n",
       "        text-align: right;\n",
       "    }\n",
       "</style>\n",
       "<table border=\"1\" class=\"dataframe\">\n",
       "  <thead>\n",
       "    <tr style=\"text-align: right;\">\n",
       "      <th></th>\n",
       "      <th>First Name</th>\n",
       "      <th>Gender</th>\n",
       "    </tr>\n",
       "  </thead>\n",
       "  <tbody>\n",
       "    <tr>\n",
       "      <th>0</th>\n",
       "      <td>Mohammad</td>\n",
       "      <td>male</td>\n",
       "    </tr>\n",
       "    <tr>\n",
       "      <th>1</th>\n",
       "      <td>Gertrudis</td>\n",
       "      <td>female</td>\n",
       "    </tr>\n",
       "    <tr>\n",
       "      <th>2</th>\n",
       "      <td>Joseph</td>\n",
       "      <td>male</td>\n",
       "    </tr>\n",
       "    <tr>\n",
       "      <th>3</th>\n",
       "      <td>Thomas</td>\n",
       "      <td>male</td>\n",
       "    </tr>\n",
       "    <tr>\n",
       "      <th>4</th>\n",
       "      <td>Curtis</td>\n",
       "      <td>male</td>\n",
       "    </tr>\n",
       "    <tr>\n",
       "      <th>...</th>\n",
       "      <td>...</td>\n",
       "      <td>...</td>\n",
       "    </tr>\n",
       "    <tr>\n",
       "      <th>95</th>\n",
       "      <td>Michael</td>\n",
       "      <td>male</td>\n",
       "    </tr>\n",
       "    <tr>\n",
       "      <th>96</th>\n",
       "      <td>Theodore</td>\n",
       "      <td>male</td>\n",
       "    </tr>\n",
       "    <tr>\n",
       "      <th>97</th>\n",
       "      <td>Dennis</td>\n",
       "      <td>male</td>\n",
       "    </tr>\n",
       "    <tr>\n",
       "      <th>98</th>\n",
       "      <td>Wadsworth</td>\n",
       "      <td>unknown</td>\n",
       "    </tr>\n",
       "    <tr>\n",
       "      <th>99</th>\n",
       "      <td>Jackson</td>\n",
       "      <td>male</td>\n",
       "    </tr>\n",
       "  </tbody>\n",
       "</table>\n",
       "<p>100 rows × 2 columns</p>\n",
       "</div>"
      ],
      "text/plain": [
       "   First Name   Gender\n",
       "0    Mohammad     male\n",
       "1   Gertrudis   female\n",
       "2      Joseph     male\n",
       "3      Thomas     male\n",
       "4      Curtis     male\n",
       "..        ...      ...\n",
       "95    Michael     male\n",
       "96   Theodore     male\n",
       "97     Dennis     male\n",
       "98  Wadsworth  unknown\n",
       "99    Jackson     male\n",
       "\n",
       "[100 rows x 2 columns]"
      ]
     },
     "execution_count": 8,
     "metadata": {},
     "output_type": "execute_result"
    }
   ],
   "source": [
    "df[['First Name', 'Gender']][0:100]"
   ]
  },
  {
   "cell_type": "markdown",
   "metadata": {},
   "source": [
    "### Gender Distribution"
   ]
  },
  {
   "cell_type": "code",
   "execution_count": 9,
   "metadata": {},
   "outputs": [
    {
     "data": {
      "text/plain": [
       "<AxesSubplot:>"
      ]
     },
     "execution_count": 9,
     "metadata": {},
     "output_type": "execute_result"
    },
    {
     "data": {
      "image/png": "[encoded data removed]",
      "text/plain": [
       "<Figure size 432x288 with 1 Axes>"
      ]
     },
     "metadata": {
      "needs_background": "light"
     },
     "output_type": "display_data"
    }
   ],
   "source": [
    "df['Gender'].value_counts()[0:100].plot(kind='barh')"
   ]
  },
  {
   "cell_type": "code",
   "execution_count": 10,
   "metadata": {},
   "outputs": [],
   "source": [
    "mean_salary_df = df.groupby(['Job Title', 'Gender'])['Base Pay'].mean()"
   ]
  },
  {
   "cell_type": "code",
   "execution_count": 11,
   "metadata": {},
   "outputs": [
    {
     "data": {
      "text/plain": [
       "Job Title                                                                                                                 Gender       \n",
       "02                                                                                                                        female           42839.492000\n",
       "                                                                                                                          male             35332.539412\n",
       "                                                                                                                          mostly_female    26698.620000\n",
       "                                                                                                                          mostly_male      30393.350000\n",
       "                                                                                                                          unknown          45501.950000\n",
       "                                                                                                                                               ...     \n",
       "YOUTHFUL OFFENDER PAROLE BOARD REPRESENTATIVE                                                                             female           74057.254000\n",
       "                                                                                                                          male              7732.883333\n",
       "                                                                                                                          mostly_female    93691.620000\n",
       "ZERO EMISSION VEHICLE INFRASTRUCTURE PROJECT MANAGER                                                                      male             75332.842000\n",
       "ZERO EMISSION VEHICLE POLICY ADVISOR TO THE CHAIR                                                                         male             85492.640000\n",
       "Name: Base Pay, Length: 25199, dtype: float64"
      ]
     },
     "execution_count": 11,
     "metadata": {},
     "output_type": "execute_result"
    }
   ],
   "source": [
    "mean_salary_df"
   ]
  },
  {
   "cell_type": "markdown",
   "metadata": {},
   "source": [
    "### Remove Duplicates\n",
    "Remove any employee name that appears in a year more than once.\n",
    "\n",
    "@TODO Review whether this step is necessary or not"
   ]
  },
  {
   "cell_type": "code",
   "execution_count": 12,
   "metadata": {},
   "outputs": [],
   "source": [
    "dupes_df = df.groupby(['Year', 'Employee Name'])['Base Pay'].count()"
   ]
  },
  {
   "cell_type": "code",
   "execution_count": 13,
   "metadata": {
    "scrolled": true
   },
   "outputs": [
    {
     "data": {
      "text/plain": [
       "Year  Employee Name   \n",
       "2011   Name Withheld      652\n",
       "      Adam T Smith          4\n",
       "      Adrian Gonzalez       3\n",
       "      Alejandro Chavez      3\n",
       "      Alejandro Garcia      3\n",
       "                         ... \n",
       "2019  Yee Vue               3\n",
       "      Yeng Xiong            3\n",
       "      Yi Zhang              3\n",
       "      Ying Yang             5\n",
       "      Yolanda Gonzalez      3\n",
       "Name: Base Pay, Length: 6417, dtype: int64"
      ]
     },
     "execution_count": 13,
     "metadata": {},
     "output_type": "execute_result"
    }
   ],
   "source": [
    "dupes_df[dupes_df > 2]"
   ]
  },
  {
   "cell_type": "code",
   "execution_count": 14,
   "metadata": {},
   "outputs": [],
   "source": [
    "df = df.sort_values(['Year', 'Employee Name'])"
   ]
  },
  {
   "cell_type": "code",
   "execution_count": 15,
   "metadata": {},
   "outputs": [],
   "source": [
    "df_no_dupes = df.drop_duplicates(subset=['Year', 'Employee Name'], keep=False)"
   ]
  },
  {
   "cell_type": "code",
   "execution_count": 16,
   "metadata": {
    "scrolled": true
   },
   "outputs": [
    {
     "data": {
      "text/html": [
       "<div>\n",
       "<style scoped>\n",
       "    .dataframe tbody tr th:only-of-type {\n",
       "        vertical-align: middle;\n",
       "    }\n",
       "\n",
       "    .dataframe tbody tr th {\n",
       "        vertical-align: top;\n",
       "    }\n",
       "\n",
       "    .dataframe thead th {\n",
       "        text-align: right;\n",
       "    }\n",
       "</style>\n",
       "<table border=\"1\" class=\"dataframe\">\n",
       "  <thead>\n",
       "    <tr style=\"text-align: right;\">\n",
       "      <th></th>\n",
       "      <th>Employee Name</th>\n",
       "      <th>Job Title</th>\n",
       "      <th>Base Pay</th>\n",
       "      <th>Year</th>\n",
       "      <th>First Name</th>\n",
       "      <th>Gender</th>\n",
       "    </tr>\n",
       "  </thead>\n",
       "  <tbody>\n",
       "    <tr>\n",
       "      <th>6143</th>\n",
       "      <td>Levin</td>\n",
       "      <td>LEAD APPELLATE COURT ATTORNEY                 ...</td>\n",
       "      <td>132378.09</td>\n",
       "      <td>2011</td>\n",
       "      <td>Levin</td>\n",
       "      <td>male</td>\n",
       "    </tr>\n",
       "    <tr>\n",
       "      <th>133753</th>\n",
       "      <td>Rouvaishyana</td>\n",
       "      <td>STATE PARK INTERPRETER II                     ...</td>\n",
       "      <td>56011.02</td>\n",
       "      <td>2011</td>\n",
       "      <td>Rouvaishyana</td>\n",
       "      <td>unknown</td>\n",
       "    </tr>\n",
       "    <tr>\n",
       "      <th>173212</th>\n",
       "      <td>A Ann Tucker</td>\n",
       "      <td>OFFICE SERVICES SUPERVISOR II (GENERAL)       ...</td>\n",
       "      <td>41255.54</td>\n",
       "      <td>2011</td>\n",
       "      <td>A</td>\n",
       "      <td>unknown</td>\n",
       "    </tr>\n",
       "    <tr>\n",
       "      <th>171171</th>\n",
       "      <td>A Buzz Campbell</td>\n",
       "      <td>TRACTOR OPERATOR-LABORER                      ...</td>\n",
       "      <td>40689.57</td>\n",
       "      <td>2011</td>\n",
       "      <td>A</td>\n",
       "      <td>unknown</td>\n",
       "    </tr>\n",
       "    <tr>\n",
       "      <th>75871</th>\n",
       "      <td>A Canise Lewis</td>\n",
       "      <td>CLINICAL SOCIAL WORKER (HEALTH/CORRECTIONAL FA...</td>\n",
       "      <td>76270.38</td>\n",
       "      <td>2011</td>\n",
       "      <td>A</td>\n",
       "      <td>unknown</td>\n",
       "    </tr>\n",
       "    <tr>\n",
       "      <th>...</th>\n",
       "      <td>...</td>\n",
       "      <td>...</td>\n",
       "      <td>...</td>\n",
       "      <td>...</td>\n",
       "      <td>...</td>\n",
       "      <td>...</td>\n",
       "    </tr>\n",
       "    <tr>\n",
       "      <th>135172</th>\n",
       "      <td>Zuzana B Bursik</td>\n",
       "      <td>ADMINISTRATIVE SPECIALIST</td>\n",
       "      <td>71907.00</td>\n",
       "      <td>2019</td>\n",
       "      <td>Zuzana</td>\n",
       "      <td>female</td>\n",
       "    </tr>\n",
       "    <tr>\n",
       "      <th>128450</th>\n",
       "      <td>Zuzana Loviskova</td>\n",
       "      <td>ADOPTIONS SPECIALIST</td>\n",
       "      <td>74721.00</td>\n",
       "      <td>2019</td>\n",
       "      <td>Zuzana</td>\n",
       "      <td>female</td>\n",
       "    </tr>\n",
       "    <tr>\n",
       "      <th>59630</th>\n",
       "      <td>Zuzana M Vona</td>\n",
       "      <td>AIR POLLUTION SPECIALIST</td>\n",
       "      <td>109439.03</td>\n",
       "      <td>2019</td>\n",
       "      <td>Zuzana</td>\n",
       "      <td>female</td>\n",
       "    </tr>\n",
       "    <tr>\n",
       "      <th>219829</th>\n",
       "      <td>Zvonimir Sola</td>\n",
       "      <td>DEPUTY ATTORNEY GENERAL</td>\n",
       "      <td>28010.00</td>\n",
       "      <td>2019</td>\n",
       "      <td>Zvonimir</td>\n",
       "      <td>male</td>\n",
       "    </tr>\n",
       "    <tr>\n",
       "      <th>137590</th>\n",
       "      <td>Zyra W Baron</td>\n",
       "      <td>HEALTH PROGRAM SPECIALIST I</td>\n",
       "      <td>70726.00</td>\n",
       "      <td>2019</td>\n",
       "      <td>Zyra</td>\n",
       "      <td>female</td>\n",
       "    </tr>\n",
       "  </tbody>\n",
       "</table>\n",
       "<p>2120742 rows × 6 columns</p>\n",
       "</div>"
      ],
      "text/plain": [
       "           Employee Name                                          Job Title  \\\n",
       "6143               Levin  LEAD APPELLATE COURT ATTORNEY                 ...   \n",
       "133753      Rouvaishyana  STATE PARK INTERPRETER II                     ...   \n",
       "173212      A Ann Tucker  OFFICE SERVICES SUPERVISOR II (GENERAL)       ...   \n",
       "171171   A Buzz Campbell  TRACTOR OPERATOR-LABORER                      ...   \n",
       "75871     A Canise Lewis  CLINICAL SOCIAL WORKER (HEALTH/CORRECTIONAL FA...   \n",
       "...                  ...                                                ...   \n",
       "135172   Zuzana B Bursik                          ADMINISTRATIVE SPECIALIST   \n",
       "128450  Zuzana Loviskova                               ADOPTIONS SPECIALIST   \n",
       "59630      Zuzana M Vona                           AIR POLLUTION SPECIALIST   \n",
       "219829     Zvonimir Sola                            DEPUTY ATTORNEY GENERAL   \n",
       "137590      Zyra W Baron                        HEALTH PROGRAM SPECIALIST I   \n",
       "\n",
       "         Base Pay  Year    First Name   Gender  \n",
       "6143    132378.09  2011         Levin     male  \n",
       "133753   56011.02  2011  Rouvaishyana  unknown  \n",
       "173212   41255.54  2011             A  unknown  \n",
       "171171   40689.57  2011             A  unknown  \n",
       "75871    76270.38  2011             A  unknown  \n",
       "...           ...   ...           ...      ...  \n",
       "135172   71907.00  2019        Zuzana   female  \n",
       "128450   74721.00  2019        Zuzana   female  \n",
       "59630   109439.03  2019        Zuzana   female  \n",
       "219829   28010.00  2019      Zvonimir     male  \n",
       "137590   70726.00  2019          Zyra   female  \n",
       "\n",
       "[2120742 rows x 6 columns]"
      ]
     },
     "execution_count": 16,
     "metadata": {},
     "output_type": "execute_result"
    }
   ],
   "source": [
    "df_no_dupes"
   ]
  },
  {
   "cell_type": "code",
   "execution_count": 17,
   "metadata": {},
   "outputs": [],
   "source": [
    "dupes_df2 = df_no_dupes.groupby(['Year', 'Employee Name'])['Base Pay'].count()"
   ]
  },
  {
   "cell_type": "code",
   "execution_count": 18,
   "metadata": {},
   "outputs": [
    {
     "data": {
      "text/plain": [
       "Series([], Name: Base Pay, dtype: int64)"
      ]
     },
     "execution_count": 18,
     "metadata": {},
     "output_type": "execute_result"
    }
   ],
   "source": [
    "dupes_df2[dupes_df2 > 2]"
   ]
  },
  {
   "cell_type": "code",
   "execution_count": 19,
   "metadata": {},
   "outputs": [],
   "source": [
    "df = df_no_dupes"
   ]
  },
  {
   "cell_type": "markdown",
   "metadata": {},
   "source": [
    "### Add a year number column (based on years in the database, by employee name)"
   ]
  },
  {
   "cell_type": "code",
   "execution_count": 117,
   "metadata": {},
   "outputs": [],
   "source": [
    "df['Year Number'] = df.groupby(['Employee Name'])['Year'].rank(\"dense\", ascending=True)\n",
    "\n",
    "df['Year in Job'] = df.groupby(['Employee Name', 'Job Title'])['Year'].rank(\"dense\", ascending=True)"
   ]
  },
  {
   "cell_type": "code",
   "execution_count": 119,
   "metadata": {
    "scrolled": true
   },
   "outputs": [
    {
     "data": {
      "text/html": [
       "<div>\n",
       "<style scoped>\n",
       "    .dataframe tbody tr th:only-of-type {\n",
       "        vertical-align: middle;\n",
       "    }\n",
       "\n",
       "    .dataframe tbody tr th {\n",
       "        vertical-align: top;\n",
       "    }\n",
       "\n",
       "    .dataframe thead th {\n",
       "        text-align: right;\n",
       "    }\n",
       "</style>\n",
       "<table border=\"1\" class=\"dataframe\">\n",
       "  <thead>\n",
       "    <tr style=\"text-align: right;\">\n",
       "      <th></th>\n",
       "      <th>Employee Name</th>\n",
       "      <th>Job Title</th>\n",
       "      <th>Base Pay</th>\n",
       "      <th>Year</th>\n",
       "      <th>First Name</th>\n",
       "      <th>Gender</th>\n",
       "      <th>Year Number</th>\n",
       "      <th>Year in Job</th>\n",
       "    </tr>\n",
       "  </thead>\n",
       "  <tbody>\n",
       "    <tr>\n",
       "      <th>6143</th>\n",
       "      <td>Levin</td>\n",
       "      <td>LEAD APPELLATE COURT ATTORNEY                 ...</td>\n",
       "      <td>132378.09</td>\n",
       "      <td>2011</td>\n",
       "      <td>Levin</td>\n",
       "      <td>male</td>\n",
       "      <td>1.0</td>\n",
       "      <td>1.0</td>\n",
       "    </tr>\n",
       "    <tr>\n",
       "      <th>133753</th>\n",
       "      <td>Rouvaishyana</td>\n",
       "      <td>STATE PARK INTERPRETER II                     ...</td>\n",
       "      <td>56011.02</td>\n",
       "      <td>2011</td>\n",
       "      <td>Rouvaishyana</td>\n",
       "      <td>unknown</td>\n",
       "      <td>1.0</td>\n",
       "      <td>1.0</td>\n",
       "    </tr>\n",
       "    <tr>\n",
       "      <th>173212</th>\n",
       "      <td>A Ann Tucker</td>\n",
       "      <td>OFFICE SERVICES SUPERVISOR II (GENERAL)       ...</td>\n",
       "      <td>41255.54</td>\n",
       "      <td>2011</td>\n",
       "      <td>A</td>\n",
       "      <td>unknown</td>\n",
       "      <td>1.0</td>\n",
       "      <td>1.0</td>\n",
       "    </tr>\n",
       "    <tr>\n",
       "      <th>171171</th>\n",
       "      <td>A Buzz Campbell</td>\n",
       "      <td>TRACTOR OPERATOR-LABORER                      ...</td>\n",
       "      <td>40689.57</td>\n",
       "      <td>2011</td>\n",
       "      <td>A</td>\n",
       "      <td>unknown</td>\n",
       "      <td>1.0</td>\n",
       "      <td>1.0</td>\n",
       "    </tr>\n",
       "    <tr>\n",
       "      <th>75871</th>\n",
       "      <td>A Canise Lewis</td>\n",
       "      <td>CLINICAL SOCIAL WORKER (HEALTH/CORRECTIONAL FA...</td>\n",
       "      <td>76270.38</td>\n",
       "      <td>2011</td>\n",
       "      <td>A</td>\n",
       "      <td>unknown</td>\n",
       "      <td>1.0</td>\n",
       "      <td>1.0</td>\n",
       "    </tr>\n",
       "    <tr>\n",
       "      <th>...</th>\n",
       "      <td>...</td>\n",
       "      <td>...</td>\n",
       "      <td>...</td>\n",
       "      <td>...</td>\n",
       "      <td>...</td>\n",
       "      <td>...</td>\n",
       "      <td>...</td>\n",
       "      <td>...</td>\n",
       "    </tr>\n",
       "    <tr>\n",
       "      <th>135172</th>\n",
       "      <td>Zuzana B Bursik</td>\n",
       "      <td>ADMINISTRATIVE SPECIALIST</td>\n",
       "      <td>71907.00</td>\n",
       "      <td>2019</td>\n",
       "      <td>Zuzana</td>\n",
       "      <td>female</td>\n",
       "      <td>9.0</td>\n",
       "      <td>4.0</td>\n",
       "    </tr>\n",
       "    <tr>\n",
       "      <th>128450</th>\n",
       "      <td>Zuzana Loviskova</td>\n",
       "      <td>ADOPTIONS SPECIALIST</td>\n",
       "      <td>74721.00</td>\n",
       "      <td>2019</td>\n",
       "      <td>Zuzana</td>\n",
       "      <td>female</td>\n",
       "      <td>4.0</td>\n",
       "      <td>4.0</td>\n",
       "    </tr>\n",
       "    <tr>\n",
       "      <th>59630</th>\n",
       "      <td>Zuzana M Vona</td>\n",
       "      <td>AIR POLLUTION SPECIALIST</td>\n",
       "      <td>109439.03</td>\n",
       "      <td>2019</td>\n",
       "      <td>Zuzana</td>\n",
       "      <td>female</td>\n",
       "      <td>9.0</td>\n",
       "      <td>7.0</td>\n",
       "    </tr>\n",
       "    <tr>\n",
       "      <th>219829</th>\n",
       "      <td>Zvonimir Sola</td>\n",
       "      <td>DEPUTY ATTORNEY GENERAL</td>\n",
       "      <td>28010.00</td>\n",
       "      <td>2019</td>\n",
       "      <td>Zvonimir</td>\n",
       "      <td>male</td>\n",
       "      <td>2.0</td>\n",
       "      <td>2.0</td>\n",
       "    </tr>\n",
       "    <tr>\n",
       "      <th>137590</th>\n",
       "      <td>Zyra W Baron</td>\n",
       "      <td>HEALTH PROGRAM SPECIALIST I</td>\n",
       "      <td>70726.00</td>\n",
       "      <td>2019</td>\n",
       "      <td>Zyra</td>\n",
       "      <td>female</td>\n",
       "      <td>6.0</td>\n",
       "      <td>2.0</td>\n",
       "    </tr>\n",
       "  </tbody>\n",
       "</table>\n",
       "<p>2120742 rows × 8 columns</p>\n",
       "</div>"
      ],
      "text/plain": [
       "           Employee Name                                          Job Title  \\\n",
       "6143               Levin  LEAD APPELLATE COURT ATTORNEY                 ...   \n",
       "133753      Rouvaishyana  STATE PARK INTERPRETER II                     ...   \n",
       "173212      A Ann Tucker  OFFICE SERVICES SUPERVISOR II (GENERAL)       ...   \n",
       "171171   A Buzz Campbell  TRACTOR OPERATOR-LABORER                      ...   \n",
       "75871     A Canise Lewis  CLINICAL SOCIAL WORKER (HEALTH/CORRECTIONAL FA...   \n",
       "...                  ...                                                ...   \n",
       "135172   Zuzana B Bursik                          ADMINISTRATIVE SPECIALIST   \n",
       "128450  Zuzana Loviskova                               ADOPTIONS SPECIALIST   \n",
       "59630      Zuzana M Vona                           AIR POLLUTION SPECIALIST   \n",
       "219829     Zvonimir Sola                            DEPUTY ATTORNEY GENERAL   \n",
       "137590      Zyra W Baron                        HEALTH PROGRAM SPECIALIST I   \n",
       "\n",
       "         Base Pay  Year    First Name   Gender  Year Number  Year in Job  \n",
       "6143    132378.09  2011         Levin     male          1.0          1.0  \n",
       "133753   56011.02  2011  Rouvaishyana  unknown          1.0          1.0  \n",
       "173212   41255.54  2011             A  unknown          1.0          1.0  \n",
       "171171   40689.57  2011             A  unknown          1.0          1.0  \n",
       "75871    76270.38  2011             A  unknown          1.0          1.0  \n",
       "...           ...   ...           ...      ...          ...          ...  \n",
       "135172   71907.00  2019        Zuzana   female          9.0          4.0  \n",
       "128450   74721.00  2019        Zuzana   female          4.0          4.0  \n",
       "59630   109439.03  2019        Zuzana   female          9.0          7.0  \n",
       "219829   28010.00  2019      Zvonimir     male          2.0          2.0  \n",
       "137590   70726.00  2019          Zyra   female          6.0          2.0  \n",
       "\n",
       "[2120742 rows x 8 columns]"
      ]
     },
     "execution_count": 119,
     "metadata": {},
     "output_type": "execute_result"
    }
   ],
   "source": [
    "df"
   ]
  },
  {
   "cell_type": "code",
   "execution_count": 118,
   "metadata": {},
   "outputs": [],
   "source": [
    "df.to_csv('all_years_with_gender.csv', index=True)"
   ]
  },
  {
   "cell_type": "markdown",
   "metadata": {},
   "source": [
    "### Look at distributions"
   ]
  },
  {
   "cell_type": "code",
   "execution_count": 113,
   "metadata": {},
   "outputs": [],
   "source": [
    "from scipy import stats\n",
    "import ipywidgets as widgets"
   ]
  },
  {
   "cell_type": "code",
   "execution_count": 60,
   "metadata": {},
   "outputs": [],
   "source": [
    "popular_jobs_df = df.groupby(['Job Title'], as_index=False)['Employee Name'] \\\n",
    "    .count() \\\n",
    "    .rename(columns={\"Employee Name\": \"Count\"}) \\\n",
    "    .sort_values([\"Count\"], ascending=False)"
   ]
  },
  {
   "cell_type": "code",
   "execution_count": 61,
   "metadata": {},
   "outputs": [
    {
     "data": {
      "text/html": [
       "<div>\n",
       "<style scoped>\n",
       "    .dataframe tbody tr th:only-of-type {\n",
       "        vertical-align: middle;\n",
       "    }\n",
       "\n",
       "    .dataframe tbody tr th {\n",
       "        vertical-align: top;\n",
       "    }\n",
       "\n",
       "    .dataframe thead th {\n",
       "        text-align: right;\n",
       "    }\n",
       "</style>\n",
       "<table border=\"1\" class=\"dataframe\">\n",
       "  <thead>\n",
       "    <tr style=\"text-align: right;\">\n",
       "      <th></th>\n",
       "      <th>Job Title</th>\n",
       "      <th>Count</th>\n",
       "    </tr>\n",
       "  </thead>\n",
       "  <tbody>\n",
       "    <tr>\n",
       "      <th>2286</th>\n",
       "      <td>CORRECTIONAL OFFICER</td>\n",
       "      <td>157193</td>\n",
       "    </tr>\n",
       "    <tr>\n",
       "      <th>853</th>\n",
       "      <td>ASSOCIATE GOVERNMENTAL PROGRAM ANALYST</td>\n",
       "      <td>67801</td>\n",
       "    </tr>\n",
       "    <tr>\n",
       "      <th>2287</th>\n",
       "      <td>CORRECTIONAL OFFICER                          ...</td>\n",
       "      <td>46078</td>\n",
       "    </tr>\n",
       "    <tr>\n",
       "      <th>5582</th>\n",
       "      <td>OFFICE TECHNICIAN (TYPING)</td>\n",
       "      <td>43338</td>\n",
       "    </tr>\n",
       "    <tr>\n",
       "      <th>5593</th>\n",
       "      <td>OFFICER, CALIFORNIA HIGHWAY PATROL</td>\n",
       "      <td>42429</td>\n",
       "    </tr>\n",
       "    <tr>\n",
       "      <th>...</th>\n",
       "      <td>...</td>\n",
       "      <td>...</td>\n",
       "    </tr>\n",
       "    <tr>\n",
       "      <th>8287</th>\n",
       "      <td>SUPERVISING HAZARDOUS SUBSTANCES SCIENTIST II</td>\n",
       "      <td>1</td>\n",
       "    </tr>\n",
       "    <tr>\n",
       "      <th>2575</th>\n",
       "      <td>DEPUTY DIRECTOR, BOARD AND BUREAU RELATIONS   ...</td>\n",
       "      <td>1</td>\n",
       "    </tr>\n",
       "    <tr>\n",
       "      <th>2579</th>\n",
       "      <td>DEPUTY DIRECTOR, BUREAU RELATIONS</td>\n",
       "      <td>1</td>\n",
       "    </tr>\n",
       "    <tr>\n",
       "      <th>2581</th>\n",
       "      <td>DEPUTY DIRECTOR, BUSINESS INVESTMENT SERVICES ...</td>\n",
       "      <td>1</td>\n",
       "    </tr>\n",
       "    <tr>\n",
       "      <th>9116</th>\n",
       "      <td>ZERO EMISSION VEHICLE POLICY ADVISOR TO THE CHAIR</td>\n",
       "      <td>1</td>\n",
       "    </tr>\n",
       "  </tbody>\n",
       "</table>\n",
       "<p>9117 rows × 2 columns</p>\n",
       "</div>"
      ],
      "text/plain": [
       "                                              Job Title   Count\n",
       "2286                               CORRECTIONAL OFFICER  157193\n",
       "853              ASSOCIATE GOVERNMENTAL PROGRAM ANALYST   67801\n",
       "2287  CORRECTIONAL OFFICER                          ...   46078\n",
       "5582                         OFFICE TECHNICIAN (TYPING)   43338\n",
       "5593                 OFFICER, CALIFORNIA HIGHWAY PATROL   42429\n",
       "...                                                 ...     ...\n",
       "8287      SUPERVISING HAZARDOUS SUBSTANCES SCIENTIST II       1\n",
       "2575  DEPUTY DIRECTOR, BOARD AND BUREAU RELATIONS   ...       1\n",
       "2579                  DEPUTY DIRECTOR, BUREAU RELATIONS       1\n",
       "2581  DEPUTY DIRECTOR, BUSINESS INVESTMENT SERVICES ...       1\n",
       "9116  ZERO EMISSION VEHICLE POLICY ADVISOR TO THE CHAIR       1\n",
       "\n",
       "[9117 rows x 2 columns]"
      ]
     },
     "execution_count": 61,
     "metadata": {},
     "output_type": "execute_result"
    }
   ],
   "source": [
    "popular_jobs_df"
   ]
  },
  {
   "cell_type": "markdown",
   "metadata": {},
   "source": [
    "### Select a Job"
   ]
  },
  {
   "cell_type": "code",
   "execution_count": 107,
   "metadata": {
    "scrolled": true
   },
   "outputs": [
    {
     "data": {
      "application/vnd.jupyter.widget-view+json": {
       "model_id": "dc98072028304e39bb5e6adca16e106a",
       "version_major": 2,
       "version_minor": 0
      },
      "text/plain": [
       "Select(options=('CORRECTIONAL OFFICER', 'ASSOCIATE GOVERNMENTAL PROGRAM ANALYST', 'CORRECTIONAL OFFICER       …"
      ]
     },
     "metadata": {},
     "output_type": "display_data"
    }
   ],
   "source": [
    "job_select = widgets.Select(\n",
    "    options=popular_jobs_df.sort_values([\"Count\"], ascending=False)[\"Job Title\"][0:100],\n",
    ")\n",
    "display(job_select)"
   ]
  },
  {
   "cell_type": "markdown",
   "metadata": {},
   "source": [
    "### Plot Gender Distributions"
   ]
  },
  {
   "cell_type": "code",
   "execution_count": 116,
   "metadata": {},
   "outputs": [
    {
     "name": "stdout",
     "output_type": "stream",
     "text": [
      "CORRECTIONAL OFFICER\n"
     ]
    },
    {
     "ename": "ImportError",
     "evalue": "Cumulative distributions are currently only implemented in statsmodels. Please install statsmodels.",
     "output_type": "error",
     "traceback": [
      "\u001b[0;31m---------------------------------------------------------------------------\u001b[0m",
      "\u001b[0;31mImportError\u001b[0m                               Traceback (most recent call last)",
      "\u001b[0;32m<ipython-input-116-77de3922ceba>\u001b[0m in \u001b[0;36m<module>\u001b[0;34m\u001b[0m\n\u001b[1;32m     11\u001b[0m \u001b[0;34m\u001b[0m\u001b[0m\n\u001b[1;32m     12\u001b[0m \u001b[0mjob_select\u001b[0m\u001b[0;34m.\u001b[0m\u001b[0mobserve\u001b[0m\u001b[0;34m(\u001b[0m\u001b[0mupdate_plot\u001b[0m\u001b[0;34m,\u001b[0m \u001b[0mnames\u001b[0m\u001b[0;34m=\u001b[0m\u001b[0;34m\"value\"\u001b[0m\u001b[0;34m)\u001b[0m\u001b[0;34m\u001b[0m\u001b[0;34m\u001b[0m\u001b[0m\n\u001b[0;32m---> 13\u001b[0;31m \u001b[0mupdate_plot\u001b[0m\u001b[0;34m(\u001b[0m\u001b[0;36m5\u001b[0m\u001b[0;34m)\u001b[0m\u001b[0;34m\u001b[0m\u001b[0;34m\u001b[0m\u001b[0m\n\u001b[0m",
      "\u001b[0;32m<ipython-input-116-77de3922ceba>\u001b[0m in \u001b[0;36mupdate_plot\u001b[0;34m(event)\u001b[0m\n\u001b[1;32m      7\u001b[0m     \u001b[0mfig\u001b[0m\u001b[0;34m,\u001b[0m \u001b[0max\u001b[0m \u001b[0;34m=\u001b[0m \u001b[0mplt\u001b[0m\u001b[0;34m.\u001b[0m\u001b[0msubplots\u001b[0m\u001b[0;34m(\u001b[0m\u001b[0mfigsize\u001b[0m\u001b[0;34m=\u001b[0m\u001b[0;34m(\u001b[0m\u001b[0;36m20\u001b[0m\u001b[0;34m,\u001b[0m\u001b[0;36m5\u001b[0m\u001b[0;34m)\u001b[0m\u001b[0;34m)\u001b[0m\u001b[0;34m\u001b[0m\u001b[0;34m\u001b[0m\u001b[0m\n\u001b[1;32m      8\u001b[0m \u001b[0;34m\u001b[0m\u001b[0m\n\u001b[0;32m----> 9\u001b[0;31m     \u001b[0mplot\u001b[0m\u001b[0;34m(\u001b[0m\u001b[0mjob_select\u001b[0m\u001b[0;34m.\u001b[0m\u001b[0mvalue\u001b[0m\u001b[0;34m,\u001b[0m \u001b[0;34m'female'\u001b[0m\u001b[0;34m,\u001b[0m \u001b[0max\u001b[0m\u001b[0;34m,\u001b[0m \u001b[0;34m'orange'\u001b[0m\u001b[0;34m)\u001b[0m\u001b[0;34m\u001b[0m\u001b[0;34m\u001b[0m\u001b[0m\n\u001b[0m\u001b[1;32m     10\u001b[0m     \u001b[0mplot\u001b[0m\u001b[0;34m(\u001b[0m\u001b[0mjob_select\u001b[0m\u001b[0;34m.\u001b[0m\u001b[0mvalue\u001b[0m\u001b[0;34m,\u001b[0m \u001b[0;34m'male'\u001b[0m\u001b[0;34m,\u001b[0m \u001b[0max\u001b[0m\u001b[0;34m,\u001b[0m \u001b[0;34m'green'\u001b[0m\u001b[0;34m)\u001b[0m\u001b[0;34m\u001b[0m\u001b[0;34m\u001b[0m\u001b[0m\n\u001b[1;32m     11\u001b[0m \u001b[0;34m\u001b[0m\u001b[0m\n",
      "\u001b[0;32m<ipython-input-116-77de3922ceba>\u001b[0m in \u001b[0;36mplot\u001b[0;34m(job_title, gender, ax, color)\u001b[0m\n\u001b[1;32m      1\u001b[0m \u001b[0;32mdef\u001b[0m \u001b[0mplot\u001b[0m\u001b[0;34m(\u001b[0m\u001b[0mjob_title\u001b[0m\u001b[0;34m,\u001b[0m \u001b[0mgender\u001b[0m\u001b[0;34m,\u001b[0m \u001b[0max\u001b[0m\u001b[0;34m,\u001b[0m \u001b[0mcolor\u001b[0m\u001b[0;34m)\u001b[0m\u001b[0;34m:\u001b[0m\u001b[0;34m\u001b[0m\u001b[0;34m\u001b[0m\u001b[0m\n\u001b[1;32m      2\u001b[0m     \u001b[0mgender_df\u001b[0m \u001b[0;34m=\u001b[0m \u001b[0mdf\u001b[0m\u001b[0;34m[\u001b[0m\u001b[0;34m(\u001b[0m\u001b[0mdf\u001b[0m\u001b[0;34m[\u001b[0m\u001b[0;34m'Job Title'\u001b[0m\u001b[0;34m]\u001b[0m \u001b[0;34m==\u001b[0m \u001b[0mjob_title\u001b[0m\u001b[0;34m)\u001b[0m \u001b[0;34m&\u001b[0m \u001b[0;34m(\u001b[0m\u001b[0mdf\u001b[0m\u001b[0;34m[\u001b[0m\u001b[0;34m'Gender'\u001b[0m\u001b[0;34m]\u001b[0m \u001b[0;34m==\u001b[0m \u001b[0mgender\u001b[0m\u001b[0;34m)\u001b[0m \u001b[0;34m&\u001b[0m \u001b[0;34m(\u001b[0m\u001b[0mdf\u001b[0m\u001b[0;34m[\u001b[0m\u001b[0;34m'Year Number'\u001b[0m\u001b[0;34m]\u001b[0m \u001b[0;34m==\u001b[0m \u001b[0;36m2\u001b[0m\u001b[0;34m)\u001b[0m\u001b[0;34m]\u001b[0m\u001b[0;34m\u001b[0m\u001b[0;34m\u001b[0m\u001b[0m\n\u001b[0;32m----> 3\u001b[0;31m     \u001b[0msns\u001b[0m\u001b[0;34m.\u001b[0m\u001b[0mdistplot\u001b[0m\u001b[0;34m(\u001b[0m\u001b[0mgender_df\u001b[0m\u001b[0;34m[\u001b[0m\u001b[0;34m'Base Pay'\u001b[0m\u001b[0;34m]\u001b[0m\u001b[0;34m,\u001b[0m \u001b[0max\u001b[0m\u001b[0;34m=\u001b[0m\u001b[0max\u001b[0m\u001b[0;34m,\u001b[0m \u001b[0mhist\u001b[0m\u001b[0;34m=\u001b[0m\u001b[0;32mFalse\u001b[0m\u001b[0;34m,\u001b[0m \u001b[0mkde\u001b[0m\u001b[0;34m=\u001b[0m\u001b[0;32mTrue\u001b[0m\u001b[0;34m,\u001b[0m \u001b[0mkde_kws\u001b[0m\u001b[0;34m=\u001b[0m\u001b[0;34m{\u001b[0m\u001b[0;34m'cumulative'\u001b[0m\u001b[0;34m:\u001b[0m \u001b[0;32mTrue\u001b[0m\u001b[0;34m}\u001b[0m\u001b[0;34m,\u001b[0m \u001b[0mcolor\u001b[0m\u001b[0;34m=\u001b[0m\u001b[0mcolor\u001b[0m\u001b[0;34m)\u001b[0m\u001b[0;34m\u001b[0m\u001b[0;34m\u001b[0m\u001b[0m\n\u001b[0m\u001b[1;32m      4\u001b[0m \u001b[0;34m\u001b[0m\u001b[0m\n\u001b[1;32m      5\u001b[0m \u001b[0;32mdef\u001b[0m \u001b[0mupdate_plot\u001b[0m\u001b[0;34m(\u001b[0m\u001b[0mevent\u001b[0m\u001b[0;34m)\u001b[0m\u001b[0;34m:\u001b[0m\u001b[0;34m\u001b[0m\u001b[0;34m\u001b[0m\u001b[0m\n",
      "\u001b[0;32m~/.pyenv/versions/3.7.7/lib/python3.7/site-packages/seaborn/distributions.py\u001b[0m in \u001b[0;36mdistplot\u001b[0;34m(a, bins, hist, kde, rug, fit, hist_kws, kde_kws, rug_kws, fit_kws, color, vertical, norm_hist, axlabel, label, ax)\u001b[0m\n\u001b[1;32m    226\u001b[0m     \u001b[0;32mif\u001b[0m \u001b[0mkde\u001b[0m\u001b[0;34m:\u001b[0m\u001b[0;34m\u001b[0m\u001b[0;34m\u001b[0m\u001b[0m\n\u001b[1;32m    227\u001b[0m         \u001b[0mkde_color\u001b[0m \u001b[0;34m=\u001b[0m \u001b[0mkde_kws\u001b[0m\u001b[0;34m.\u001b[0m\u001b[0mpop\u001b[0m\u001b[0;34m(\u001b[0m\u001b[0;34m\"color\"\u001b[0m\u001b[0;34m,\u001b[0m \u001b[0mcolor\u001b[0m\u001b[0;34m)\u001b[0m\u001b[0;34m\u001b[0m\u001b[0;34m\u001b[0m\u001b[0m\n\u001b[0;32m--> 228\u001b[0;31m         \u001b[0mkdeplot\u001b[0m\u001b[0;34m(\u001b[0m\u001b[0ma\u001b[0m\u001b[0;34m,\u001b[0m \u001b[0mvertical\u001b[0m\u001b[0;34m=\u001b[0m\u001b[0mvertical\u001b[0m\u001b[0;34m,\u001b[0m \u001b[0max\u001b[0m\u001b[0;34m=\u001b[0m\u001b[0max\u001b[0m\u001b[0;34m,\u001b[0m \u001b[0mcolor\u001b[0m\u001b[0;34m=\u001b[0m\u001b[0mkde_color\u001b[0m\u001b[0;34m,\u001b[0m \u001b[0;34m**\u001b[0m\u001b[0mkde_kws\u001b[0m\u001b[0;34m)\u001b[0m\u001b[0;34m\u001b[0m\u001b[0;34m\u001b[0m\u001b[0m\n\u001b[0m\u001b[1;32m    229\u001b[0m         \u001b[0;32mif\u001b[0m \u001b[0mkde_color\u001b[0m \u001b[0;34m!=\u001b[0m \u001b[0mcolor\u001b[0m\u001b[0;34m:\u001b[0m\u001b[0;34m\u001b[0m\u001b[0;34m\u001b[0m\u001b[0m\n\u001b[1;32m    230\u001b[0m             \u001b[0mkde_kws\u001b[0m\u001b[0;34m[\u001b[0m\u001b[0;34m\"color\"\u001b[0m\u001b[0;34m]\u001b[0m \u001b[0;34m=\u001b[0m \u001b[0mkde_color\u001b[0m\u001b[0;34m\u001b[0m\u001b[0;34m\u001b[0m\u001b[0m\n",
      "\u001b[0;32m~/.pyenv/versions/3.7.7/lib/python3.7/site-packages/seaborn/distributions.py\u001b[0m in \u001b[0;36mkdeplot\u001b[0;34m(data, data2, shade, vertical, kernel, bw, gridsize, cut, clip, legend, cumulative, shade_lowest, cbar, cbar_ax, cbar_kws, ax, **kwargs)\u001b[0m\n\u001b[1;32m    700\u001b[0m         ax = _univariate_kdeplot(data, shade, vertical, kernel, bw,\n\u001b[1;32m    701\u001b[0m                                  \u001b[0mgridsize\u001b[0m\u001b[0;34m,\u001b[0m \u001b[0mcut\u001b[0m\u001b[0;34m,\u001b[0m \u001b[0mclip\u001b[0m\u001b[0;34m,\u001b[0m \u001b[0mlegend\u001b[0m\u001b[0;34m,\u001b[0m \u001b[0max\u001b[0m\u001b[0;34m,\u001b[0m\u001b[0;34m\u001b[0m\u001b[0;34m\u001b[0m\u001b[0m\n\u001b[0;32m--> 702\u001b[0;31m                                  cumulative=cumulative, **kwargs)\n\u001b[0m\u001b[1;32m    703\u001b[0m \u001b[0;34m\u001b[0m\u001b[0m\n\u001b[1;32m    704\u001b[0m     \u001b[0;32mreturn\u001b[0m \u001b[0max\u001b[0m\u001b[0;34m\u001b[0m\u001b[0;34m\u001b[0m\u001b[0m\n",
      "\u001b[0;32m~/.pyenv/versions/3.7.7/lib/python3.7/site-packages/seaborn/distributions.py\u001b[0m in \u001b[0;36m_univariate_kdeplot\u001b[0;34m(data, shade, vertical, kernel, bw, gridsize, cut, clip, legend, ax, cumulative, **kwargs)\u001b[0m\n\u001b[1;32m    296\u001b[0m             \u001b[0mwarnings\u001b[0m\u001b[0;34m.\u001b[0m\u001b[0mwarn\u001b[0m\u001b[0;34m(\u001b[0m\u001b[0mmsg\u001b[0m\u001b[0;34m,\u001b[0m \u001b[0mUserWarning\u001b[0m\u001b[0;34m)\u001b[0m\u001b[0;34m\u001b[0m\u001b[0;34m\u001b[0m\u001b[0m\n\u001b[1;32m    297\u001b[0m         \u001b[0;32mif\u001b[0m \u001b[0mcumulative\u001b[0m\u001b[0;34m:\u001b[0m\u001b[0;34m\u001b[0m\u001b[0;34m\u001b[0m\u001b[0m\n\u001b[0;32m--> 298\u001b[0;31m             raise ImportError(\"Cumulative distributions are currently \"\n\u001b[0m\u001b[1;32m    299\u001b[0m                               \u001b[0;34m\"only implemented in statsmodels. \"\u001b[0m\u001b[0;34m\u001b[0m\u001b[0;34m\u001b[0m\u001b[0m\n\u001b[1;32m    300\u001b[0m                               \"Please install statsmodels.\")\n",
      "\u001b[0;31mImportError\u001b[0m: Cumulative distributions are currently only implemented in statsmodels. Please install statsmodels."
     ]
    },
    {
     "data": {
      "image/png": "[encoded data removed]",
      "text/plain": [
       "<Figure size 1440x360 with 1 Axes>"
      ]
     },
     "metadata": {
      "needs_background": "light"
     },
     "output_type": "display_data"
    }
   ],
   "source": [
    "def plot(job_title, gender, ax, color):\n",
    "    gender_df = df[(df['Job Title'] == job_title) & (df['Gender'] == gender) & (df['Year Number'] == 2)]\n",
    "    sns.distplot(gender_df['Base Pay'], ax=ax, hist=False, kde=True, kde_kws={'cumulative': True}, color=color)\n",
    "    \n",
    "def update_plot(event):\n",
    "    print(job_select.value)\n",
    "    fig, ax = plt.subplots(figsize=(20,5))\n",
    "    \n",
    "    plot(job_select.value, 'female', ax, 'orange')\n",
    "    plot(job_select.value, 'male', ax, 'green')\n",
    "    \n",
    "job_select.observe(update_plot, names=\"value\")\n",
    "update_plot(5)"
   ]
  }
 ],
 "metadata": {
  "kernelspec": {
   "display_name": "Python 3",
   "language": "python",
   "name": "python3"
  },
  "language_info": {
   "codemirror_mode": {
    "name": "ipython",
    "version": 3
   },
   "file_extension": ".py",
   "mimetype": "text/x-python",
   "name": "python",
   "nbconvert_exporter": "python",
   "pygments_lexer": "ipython3",
   "version": "3.7.7"
  }
 },
 "nbformat": 4,
 "nbformat_minor": 4
}
