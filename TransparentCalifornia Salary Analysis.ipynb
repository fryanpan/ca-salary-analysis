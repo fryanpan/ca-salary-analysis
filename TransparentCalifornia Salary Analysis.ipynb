{
 "cells": [
  {
   "cell_type": "markdown",
   "metadata": {},
   "source": [
    "# Review Data from TransparentCalifornia"
   ]
  },
  {
   "cell_type": "code",
   "execution_count": null,
   "metadata": {},
   "outputs": [
    {
     "name": "stdout",
     "output_type": "stream",
     "text": [
      "Requirement already satisfied: pandas in /Users/bryanchan/.pyenv/versions/3.7.7/lib/python3.7/site-packages (1.1.1)\n",
      "Requirement already satisfied: matplotlib in /Users/bryanchan/.pyenv/versions/3.7.7/lib/python3.7/site-packages (3.3.1)\n",
      "Requirement already satisfied: pandas_profiling in /Users/bryanchan/.pyenv/versions/3.7.7/lib/python3.7/site-packages (2.8.0)\n",
      "Requirement already satisfied: genderize in /Users/bryanchan/.pyenv/versions/3.7.7/lib/python3.7/site-packages (0.3.1)\n",
      "Requirement already satisfied: gender_guesser in /Users/bryanchan/.pyenv/versions/3.7.7/lib/python3.7/site-packages (0.4.0)\n",
      "Requirement already satisfied: pytz>=2017.2 in /Users/bryanchan/.pyenv/versions/3.7.7/lib/python3.7/site-packages (from pandas) (2020.1)\n",
      "Requirement already satisfied: python-dateutil>=2.7.3 in /Users/bryanchan/.pyenv/versions/3.7.7/lib/python3.7/site-packages (from pandas) (2.8.1)\n",
      "Requirement already satisfied: numpy>=1.15.4 in /Users/bryanchan/.pyenv/versions/3.7.7/lib/python3.7/site-packages (from pandas) (1.19.1)\n",
      "Requirement already satisfied: kiwisolver>=1.0.1 in /Users/bryanchan/.pyenv/versions/3.7.7/lib/python3.7/site-packages (from matplotlib) (1.2.0)\n",
      "Requirement already satisfied: pillow>=6.2.0 in /Users/bryanchan/.pyenv/versions/3.7.7/lib/python3.7/site-packages (from matplotlib) (7.2.0)\n",
      "Requirement already satisfied: certifi>=2020.06.20 in /Users/bryanchan/.pyenv/versions/3.7.7/lib/python3.7/site-packages (from matplotlib) (2020.6.20)\n",
      "Requirement already satisfied: cycler>=0.10 in /Users/bryanchan/.pyenv/versions/3.7.7/lib/python3.7/site-packages (from matplotlib) (0.10.0)\n",
      "Requirement already satisfied: pyparsing!=2.0.4,!=2.1.2,!=2.1.6,>=2.0.3 in /Users/bryanchan/.pyenv/versions/3.7.7/lib/python3.7/site-packages (from matplotlib) (2.4.7)\n",
      "Requirement already satisfied: scipy>=1.4.1 in /Users/bryanchan/.pyenv/versions/3.7.7/lib/python3.7/site-packages (from pandas_profiling) (1.5.2)\n",
      "Requirement already satisfied: tqdm>=4.43.0 in /Users/bryanchan/.pyenv/versions/3.7.7/lib/python3.7/site-packages (from pandas_profiling) (4.48.2)\n",
      "Requirement already satisfied: tangled-up-in-unicode>=0.0.6 in /Users/bryanchan/.pyenv/versions/3.7.7/lib/python3.7/site-packages (from pandas_profiling) (0.0.6)\n",
      "Requirement already satisfied: joblib in /Users/bryanchan/.pyenv/versions/3.7.7/lib/python3.7/site-packages (from pandas_profiling) (0.16.0)\n",
      "Requirement already satisfied: htmlmin>=0.1.12 in /Users/bryanchan/.pyenv/versions/3.7.7/lib/python3.7/site-packages (from pandas_profiling) (0.1.12)\n",
      "Requirement already satisfied: jinja2>=2.11.1 in /Users/bryanchan/.pyenv/versions/3.7.7/lib/python3.7/site-packages (from pandas_profiling) (2.11.2)\n",
      "Requirement already satisfied: visions[type_image_path]==0.4.4 in /Users/bryanchan/.pyenv/versions/3.7.7/lib/python3.7/site-packages (from pandas_profiling) (0.4.4)\n",
      "Requirement already satisfied: phik>=0.9.10 in /Users/bryanchan/.pyenv/versions/3.7.7/lib/python3.7/site-packages (from pandas_profiling) (0.10.0)\n",
      "Requirement already satisfied: requests>=2.23.0 in /Users/bryanchan/.pyenv/versions/3.7.7/lib/python3.7/site-packages (from pandas_profiling) (2.24.0)\n",
      "Requirement already satisfied: missingno>=0.4.2 in /Users/bryanchan/.pyenv/versions/3.7.7/lib/python3.7/site-packages (from pandas_profiling) (0.4.2)\n",
      "Requirement already satisfied: confuse>=1.0.0 in /Users/bryanchan/.pyenv/versions/3.7.7/lib/python3.7/site-packages (from pandas_profiling) (1.3.0)\n",
      "Requirement already satisfied: astropy>=4.0 in /Users/bryanchan/.pyenv/versions/3.7.7/lib/python3.7/site-packages (from pandas_profiling) (4.0.1.post1)\n",
      "Requirement already satisfied: ipywidgets>=7.5.1 in /Users/bryanchan/.pyenv/versions/3.7.7/lib/python3.7/site-packages (from pandas_profiling) (7.5.1)\n",
      "Requirement already satisfied: six>=1.5 in /Users/bryanchan/.pyenv/versions/3.7.7/lib/python3.7/site-packages (from python-dateutil>=2.7.3->pandas) (1.15.0)\n",
      "Requirement already satisfied: MarkupSafe>=0.23 in /Users/bryanchan/.pyenv/versions/3.7.7/lib/python3.7/site-packages (from jinja2>=2.11.1->pandas_profiling) (1.1.1)\n",
      "Requirement already satisfied: networkx>=2.4 in /Users/bryanchan/.pyenv/versions/3.7.7/lib/python3.7/site-packages (from visions[type_image_path]==0.4.4->pandas_profiling) (2.5)\n",
      "Requirement already satisfied: attrs>=19.3.0 in /Users/bryanchan/.pyenv/versions/3.7.7/lib/python3.7/site-packages (from visions[type_image_path]==0.4.4->pandas_profiling) (20.1.0)\n",
      "Requirement already satisfied: imagehash; extra == \"type_image_path\" in /Users/bryanchan/.pyenv/versions/3.7.7/lib/python3.7/site-packages (from visions[type_image_path]==0.4.4->pandas_profiling) (4.1.0)\n",
      "Requirement already satisfied: numba>=0.38.1 in /Users/bryanchan/.pyenv/versions/3.7.7/lib/python3.7/site-packages (from phik>=0.9.10->pandas_profiling) (0.51.0)\n",
      "Requirement already satisfied: idna<3,>=2.5 in /Users/bryanchan/.pyenv/versions/3.7.7/lib/python3.7/site-packages (from requests>=2.23.0->pandas_profiling) (2.10)\n",
      "Requirement already satisfied: chardet<4,>=3.0.2 in /Users/bryanchan/.pyenv/versions/3.7.7/lib/python3.7/site-packages (from requests>=2.23.0->pandas_profiling) (3.0.4)\n",
      "Requirement already satisfied: urllib3!=1.25.0,!=1.25.1,<1.26,>=1.21.1 in /Users/bryanchan/.pyenv/versions/3.7.7/lib/python3.7/site-packages (from requests>=2.23.0->pandas_profiling) (1.25.10)\n",
      "Requirement already satisfied: seaborn in /Users/bryanchan/.pyenv/versions/3.7.7/lib/python3.7/site-packages (from missingno>=0.4.2->pandas_profiling) (0.10.1)\n",
      "Requirement already satisfied: pyyaml in /Users/bryanchan/.pyenv/versions/3.7.7/lib/python3.7/site-packages (from confuse>=1.0.0->pandas_profiling) (5.3.1)\n",
      "Requirement already satisfied: widgetsnbextension~=3.5.0 in /Users/bryanchan/.pyenv/versions/3.7.7/lib/python3.7/site-packages (from ipywidgets>=7.5.1->pandas_profiling) (3.5.1)\n",
      "Requirement already satisfied: nbformat>=4.2.0 in /Users/bryanchan/.pyenv/versions/3.7.7/lib/python3.7/site-packages (from ipywidgets>=7.5.1->pandas_profiling) (5.0.7)\n",
      "Requirement already satisfied: ipykernel>=4.5.1 in /Users/bryanchan/.pyenv/versions/3.7.7/lib/python3.7/site-packages (from ipywidgets>=7.5.1->pandas_profiling) (5.3.4)\n",
      "Requirement already satisfied: traitlets>=4.3.1 in /Users/bryanchan/.pyenv/versions/3.7.7/lib/python3.7/site-packages (from ipywidgets>=7.5.1->pandas_profiling) (4.3.3)\n",
      "Requirement already satisfied: ipython>=4.0.0; python_version >= \"3.3\" in /Users/bryanchan/.pyenv/versions/3.7.7/lib/python3.7/site-packages (from ipywidgets>=7.5.1->pandas_profiling) (7.17.0)\n",
      "Requirement already satisfied: decorator>=4.3.0 in /Users/bryanchan/.pyenv/versions/3.7.7/lib/python3.7/site-packages (from networkx>=2.4->visions[type_image_path]==0.4.4->pandas_profiling) (4.4.2)\n",
      "Requirement already satisfied: PyWavelets in /Users/bryanchan/.pyenv/versions/3.7.7/lib/python3.7/site-packages (from imagehash; extra == \"type_image_path\"->visions[type_image_path]==0.4.4->pandas_profiling) (1.1.1)\n",
      "Requirement already satisfied: llvmlite<0.35,>=0.34.0.dev0 in /Users/bryanchan/.pyenv/versions/3.7.7/lib/python3.7/site-packages (from numba>=0.38.1->phik>=0.9.10->pandas_profiling) (0.34.0)\n",
      "Requirement already satisfied: setuptools in /Users/bryanchan/.pyenv/versions/3.7.7/lib/python3.7/site-packages (from numba>=0.38.1->phik>=0.9.10->pandas_profiling) (41.2.0)\n",
      "Requirement already satisfied: notebook>=4.4.1 in /Users/bryanchan/.pyenv/versions/3.7.7/lib/python3.7/site-packages (from widgetsnbextension~=3.5.0->ipywidgets>=7.5.1->pandas_profiling) (6.1.3)\n",
      "Requirement already satisfied: jsonschema!=2.5.0,>=2.4 in /Users/bryanchan/.pyenv/versions/3.7.7/lib/python3.7/site-packages (from nbformat>=4.2.0->ipywidgets>=7.5.1->pandas_profiling) (3.2.0)\n",
      "Requirement already satisfied: jupyter-core in /Users/bryanchan/.pyenv/versions/3.7.7/lib/python3.7/site-packages (from nbformat>=4.2.0->ipywidgets>=7.5.1->pandas_profiling) (4.6.3)\n",
      "Requirement already satisfied: ipython-genutils in /Users/bryanchan/.pyenv/versions/3.7.7/lib/python3.7/site-packages (from nbformat>=4.2.0->ipywidgets>=7.5.1->pandas_profiling) (0.2.0)\n",
      "Requirement already satisfied: jupyter-client in /Users/bryanchan/.pyenv/versions/3.7.7/lib/python3.7/site-packages (from ipykernel>=4.5.1->ipywidgets>=7.5.1->pandas_profiling) (6.1.6)\n",
      "Requirement already satisfied: tornado>=4.2 in /Users/bryanchan/.pyenv/versions/3.7.7/lib/python3.7/site-packages (from ipykernel>=4.5.1->ipywidgets>=7.5.1->pandas_profiling) (6.0.4)\n"
     ]
    },
    {
     "name": "stdout",
     "output_type": "stream",
     "text": [
      "Requirement already satisfied: appnope; platform_system == \"Darwin\" in /Users/bryanchan/.pyenv/versions/3.7.7/lib/python3.7/site-packages (from ipykernel>=4.5.1->ipywidgets>=7.5.1->pandas_profiling) (0.1.0)\n",
      "Requirement already satisfied: pygments in /Users/bryanchan/.pyenv/versions/3.7.7/lib/python3.7/site-packages (from ipython>=4.0.0; python_version >= \"3.3\"->ipywidgets>=7.5.1->pandas_profiling) (2.6.1)\n",
      "Requirement already satisfied: pexpect; sys_platform != \"win32\" in /Users/bryanchan/.pyenv/versions/3.7.7/lib/python3.7/site-packages (from ipython>=4.0.0; python_version >= \"3.3\"->ipywidgets>=7.5.1->pandas_profiling) (4.8.0)\n",
      "Requirement already satisfied: backcall in /Users/bryanchan/.pyenv/versions/3.7.7/lib/python3.7/site-packages (from ipython>=4.0.0; python_version >= \"3.3\"->ipywidgets>=7.5.1->pandas_profiling) (0.2.0)\n",
      "Requirement already satisfied: jedi>=0.10 in /Users/bryanchan/.pyenv/versions/3.7.7/lib/python3.7/site-packages (from ipython>=4.0.0; python_version >= \"3.3\"->ipywidgets>=7.5.1->pandas_profiling) (0.17.2)\n",
      "Requirement already satisfied: pickleshare in /Users/bryanchan/.pyenv/versions/3.7.7/lib/python3.7/site-packages (from ipython>=4.0.0; python_version >= \"3.3\"->ipywidgets>=7.5.1->pandas_profiling) (0.7.5)\n",
      "Requirement already satisfied: prompt-toolkit!=3.0.0,!=3.0.1,<3.1.0,>=2.0.0 in /Users/bryanchan/.pyenv/versions/3.7.7/lib/python3.7/site-packages (from ipython>=4.0.0; python_version >= \"3.3\"->ipywidgets>=7.5.1->pandas_profiling) (3.0.6)\n",
      "Requirement already satisfied: nbconvert in /Users/bryanchan/.pyenv/versions/3.7.7/lib/python3.7/site-packages (from notebook>=4.4.1->widgetsnbextension~=3.5.0->ipywidgets>=7.5.1->pandas_profiling) (5.6.1)\n",
      "Requirement already satisfied: argon2-cffi in /Users/bryanchan/.pyenv/versions/3.7.7/lib/python3.7/site-packages (from notebook>=4.4.1->widgetsnbextension~=3.5.0->ipywidgets>=7.5.1->pandas_profiling) (20.1.0)\n",
      "Requirement already satisfied: terminado>=0.8.3 in /Users/bryanchan/.pyenv/versions/3.7.7/lib/python3.7/site-packages (from notebook>=4.4.1->widgetsnbextension~=3.5.0->ipywidgets>=7.5.1->pandas_profiling) (0.8.3)\n",
      "Requirement already satisfied: Send2Trash in /Users/bryanchan/.pyenv/versions/3.7.7/lib/python3.7/site-packages (from notebook>=4.4.1->widgetsnbextension~=3.5.0->ipywidgets>=7.5.1->pandas_profiling) (1.5.0)\n",
      "Requirement already satisfied: prometheus-client in /Users/bryanchan/.pyenv/versions/3.7.7/lib/python3.7/site-packages (from notebook>=4.4.1->widgetsnbextension~=3.5.0->ipywidgets>=7.5.1->pandas_profiling) (0.8.0)\n",
      "Requirement already satisfied: pyzmq>=17 in /Users/bryanchan/.pyenv/versions/3.7.7/lib/python3.7/site-packages (from notebook>=4.4.1->widgetsnbextension~=3.5.0->ipywidgets>=7.5.1->pandas_profiling) (19.0.2)\n",
      "Requirement already satisfied: importlib-metadata; python_version < \"3.8\" in /Users/bryanchan/.pyenv/versions/3.7.7/lib/python3.7/site-packages (from jsonschema!=2.5.0,>=2.4->nbformat>=4.2.0->ipywidgets>=7.5.1->pandas_profiling) (1.7.0)\n",
      "Requirement already satisfied: pyrsistent>=0.14.0 in /Users/bryanchan/.pyenv/versions/3.7.7/lib/python3.7/site-packages (from jsonschema!=2.5.0,>=2.4->nbformat>=4.2.0->ipywidgets>=7.5.1->pandas_profiling) (0.16.0)\n",
      "Requirement already satisfied: ptyprocess>=0.5 in /Users/bryanchan/.pyenv/versions/3.7.7/lib/python3.7/site-packages (from pexpect; sys_platform != \"win32\"->ipython>=4.0.0; python_version >= \"3.3\"->ipywidgets>=7.5.1->pandas_profiling) (0.6.0)\n",
      "Requirement already satisfied: parso<0.8.0,>=0.7.0 in /Users/bryanchan/.pyenv/versions/3.7.7/lib/python3.7/site-packages (from jedi>=0.10->ipython>=4.0.0; python_version >= \"3.3\"->ipywidgets>=7.5.1->pandas_profiling) (0.7.1)\n",
      "Requirement already satisfied: wcwidth in /Users/bryanchan/.pyenv/versions/3.7.7/lib/python3.7/site-packages (from prompt-toolkit!=3.0.0,!=3.0.1,<3.1.0,>=2.0.0->ipython>=4.0.0; python_version >= \"3.3\"->ipywidgets>=7.5.1->pandas_profiling) (0.2.5)\n",
      "Requirement already satisfied: mistune<2,>=0.8.1 in /Users/bryanchan/.pyenv/versions/3.7.7/lib/python3.7/site-packages (from nbconvert->notebook>=4.4.1->widgetsnbextension~=3.5.0->ipywidgets>=7.5.1->pandas_profiling) (0.8.4)\n",
      "Requirement already satisfied: bleach in /Users/bryanchan/.pyenv/versions/3.7.7/lib/python3.7/site-packages (from nbconvert->notebook>=4.4.1->widgetsnbextension~=3.5.0->ipywidgets>=7.5.1->pandas_profiling) (3.1.5)\n",
      "Requirement already satisfied: defusedxml in /Users/bryanchan/.pyenv/versions/3.7.7/lib/python3.7/site-packages (from nbconvert->notebook>=4.4.1->widgetsnbextension~=3.5.0->ipywidgets>=7.5.1->pandas_profiling) (0.6.0)\n",
      "Requirement already satisfied: entrypoints>=0.2.2 in /Users/bryanchan/.pyenv/versions/3.7.7/lib/python3.7/site-packages (from nbconvert->notebook>=4.4.1->widgetsnbextension~=3.5.0->ipywidgets>=7.5.1->pandas_profiling) (0.3)\n",
      "Requirement already satisfied: testpath in /Users/bryanchan/.pyenv/versions/3.7.7/lib/python3.7/site-packages (from nbconvert->notebook>=4.4.1->widgetsnbextension~=3.5.0->ipywidgets>=7.5.1->pandas_profiling) (0.4.4)\n",
      "Requirement already satisfied: pandocfilters>=1.4.1 in /Users/bryanchan/.pyenv/versions/3.7.7/lib/python3.7/site-packages (from nbconvert->notebook>=4.4.1->widgetsnbextension~=3.5.0->ipywidgets>=7.5.1->pandas_profiling) (1.4.2)\n",
      "Requirement already satisfied: cffi>=1.0.0 in /Users/bryanchan/.pyenv/versions/3.7.7/lib/python3.7/site-packages (from argon2-cffi->notebook>=4.4.1->widgetsnbextension~=3.5.0->ipywidgets>=7.5.1->pandas_profiling) (1.14.2)\n",
      "Requirement already satisfied: zipp>=0.5 in /Users/bryanchan/.pyenv/versions/3.7.7/lib/python3.7/site-packages (from importlib-metadata; python_version < \"3.8\"->jsonschema!=2.5.0,>=2.4->nbformat>=4.2.0->ipywidgets>=7.5.1->pandas_profiling) (3.1.0)\n",
      "Requirement already satisfied: packaging in /Users/bryanchan/.pyenv/versions/3.7.7/lib/python3.7/site-packages (from bleach->nbconvert->notebook>=4.4.1->widgetsnbextension~=3.5.0->ipywidgets>=7.5.1->pandas_profiling) (20.4)\n",
      "Requirement already satisfied: webencodings in /Users/bryanchan/.pyenv/versions/3.7.7/lib/python3.7/site-packages (from bleach->nbconvert->notebook>=4.4.1->widgetsnbextension~=3.5.0->ipywidgets>=7.5.1->pandas_profiling) (0.5.1)\n",
      "Requirement already satisfied: pycparser in /Users/bryanchan/.pyenv/versions/3.7.7/lib/python3.7/site-packages (from cffi>=1.0.0->argon2-cffi->notebook>=4.4.1->widgetsnbextension~=3.5.0->ipywidgets>=7.5.1->pandas_profiling) (2.20)\n",
      "\u001b[33mWARNING: You are using pip version 19.2.3, however version 20.2.2 is available.\n",
      "You should consider upgrading via the 'pip install --upgrade pip' command.\u001b[0m\n"
     ]
    }
   ],
   "source": [
    "import sys\n",
    "!{sys.executable} -m pip install pandas matplotlib pandas_profiling genderize gender_guesser\n",
    "\n",
    "import requests\n",
    "from io import StringIO\n",
    "import pandas as pd\n",
    "from pandas_profiling import ProfileReport\n",
    "import matplotlib\n",
    "%matplotlib inline\n",
    "from genderize import Genderize\n",
    "import gender_guesser.detector as gender"
   ]
  },
  {
   "cell_type": "code",
   "execution_count": null,
   "metadata": {},
   "outputs": [],
   "source": [
    "# Fetch data from publicpay.ca.gov\n",
    "df = None\n",
    "for year in range(2011,2020):    \n",
    "    year_df = pd.read_csv(f'state-of-california-{year}.csv.zip', compression='zip')\n",
    "    year_df = year_df[year_df['Base Pay'].ne('Not Provided')]\n",
    "    year_df['Base Pay'] = pd.to_numeric(year_df['Base Pay']).astype('float64')\n",
    "    year_df['Job Title'] = year_df['Job Title'].str.upper()\n",
    "    if year == 2013:\n",
    "        print(year_df)\n",
    "    print(f'Year {year} Rows {len(year_df)}')\n",
    "    df = year_df if df is None else df.append(year_df)"
   ]
  },
  {
   "cell_type": "code",
   "execution_count": null,
   "metadata": {},
   "outputs": [],
   "source": [
    "print(df.columns)"
   ]
  },
  {
   "cell_type": "markdown",
   "metadata": {},
   "source": [
    "### Profiling Report"
   ]
  },
  {
   "cell_type": "code",
   "execution_count": null,
   "metadata": {},
   "outputs": [],
   "source": [
    "# profile = ProfileReport(df, title='Pandas Profiling Report', explorative=True)\n",
    "# profile"
   ]
  },
  {
   "cell_type": "markdown",
   "metadata": {},
   "source": [
    "### Top 20 Job Titles"
   ]
  },
  {
   "cell_type": "code",
   "execution_count": null,
   "metadata": {
    "scrolled": true
   },
   "outputs": [],
   "source": [
    "df['Job Title'].value_counts()[0:20].plot(kind='barh')"
   ]
  },
  {
   "cell_type": "markdown",
   "metadata": {},
   "source": [
    "## Agencies"
   ]
  },
  {
   "cell_type": "code",
   "execution_count": null,
   "metadata": {},
   "outputs": [],
   "source": [
    "df['Agency'].value_counts()[0:20].plot(kind='barh')"
   ]
  },
  {
   "cell_type": "markdown",
   "metadata": {},
   "source": [
    "# Compute Genders"
   ]
  },
  {
   "cell_type": "code",
   "execution_count": null,
   "metadata": {},
   "outputs": [],
   "source": [
    "df['First Name'] = df['Employee Name'].str.split(n=2).str[0]"
   ]
  },
  {
   "cell_type": "code",
   "execution_count": null,
   "metadata": {},
   "outputs": [],
   "source": [
    "d = gender.Detector()\n",
    "df['Gender'] = df['First Name'].apply(lambda name: d.get_gender(name.title()))\n",
    "\n",
    "# Rate limited, so let's not use this for now\n",
    "# Genderize().get(df['First Name'])"
   ]
  },
  {
   "cell_type": "code",
   "execution_count": null,
   "metadata": {},
   "outputs": [],
   "source": [
    "df[['First Name', 'Gender']][0:100]"
   ]
  },
  {
   "cell_type": "markdown",
   "metadata": {},
   "source": [
    "### Gender Distribution"
   ]
  },
  {
   "cell_type": "code",
   "execution_count": null,
   "metadata": {},
   "outputs": [],
   "source": [
    "df['Gender'].value_counts()[0:100].plot(kind='barh')"
   ]
  },
  {
   "cell_type": "code",
   "execution_count": null,
   "metadata": {},
   "outputs": [],
   "source": [
    "mean_salary_df = df.groupby(['Job Title', 'Gender'])['Base Pay'].mean()"
   ]
  },
  {
   "cell_type": "code",
   "execution_count": null,
   "metadata": {},
   "outputs": [],
   "source": [
    "mean_salary_df"
   ]
  },
  {
   "cell_type": "markdown",
   "metadata": {},
   "source": [
    "### Remove Duplicates\n",
    "Remove any employee name that appears in a year more than once.\n",
    "\n",
    "@TODO Review whether this step is necessary or not"
   ]
  },
  {
   "cell_type": "code",
   "execution_count": null,
   "metadata": {},
   "outputs": [],
   "source": [
    "dupes_df = df.groupby(['Year', 'Employee Name'])['Base Pay'].count()"
   ]
  },
  {
   "cell_type": "code",
   "execution_count": null,
   "metadata": {
    "scrolled": true
   },
   "outputs": [],
   "source": [
    "dupes_df[dupes_df > 2]"
   ]
  },
  {
   "cell_type": "code",
   "execution_count": null,
   "metadata": {},
   "outputs": [],
   "source": [
    "df = df.sort_values(['Year', 'Employee Name'])"
   ]
  },
  {
   "cell_type": "code",
   "execution_count": null,
   "metadata": {},
   "outputs": [],
   "source": [
    "df_no_dupes = df.drop_duplicates(subset=['Year', 'Employee Name'], keep=False)"
   ]
  },
  {
   "cell_type": "code",
   "execution_count": null,
   "metadata": {
    "scrolled": true
   },
   "outputs": [],
   "source": [
    "df_no_dupes"
   ]
  },
  {
   "cell_type": "code",
   "execution_count": null,
   "metadata": {},
   "outputs": [],
   "source": [
    "dupes_df2 = df_no_dupes.groupby(['Year', 'Employee Name'])['Base Pay'].count()"
   ]
  },
  {
   "cell_type": "code",
   "execution_count": null,
   "metadata": {},
   "outputs": [],
   "source": [
    "dupes_df2[dupes_df2 > 2]"
   ]
  },
  {
   "cell_type": "code",
   "execution_count": null,
   "metadata": {},
   "outputs": [],
   "source": [
    "df = df_no_dupes"
   ]
  },
  {
   "cell_type": "markdown",
   "metadata": {},
   "source": [
    "### Add a year number column (based on years in the database, by employee name)"
   ]
  },
  {
   "cell_type": "code",
   "execution_count": null,
   "metadata": {},
   "outputs": [],
   "source": [
    "df['Year Number'] = df.groupby(['Employee Name'])['Year'].rank(\"dense\", ascending=True)"
   ]
  },
  {
   "cell_type": "code",
   "execution_count": null,
   "metadata": {
    "scrolled": true
   },
   "outputs": [],
   "source": [
    "df"
   ]
  },
  {
   "cell_type": "code",
   "execution_count": null,
   "metadata": {},
   "outputs": [],
   "source": [
    "df.to_csv('all_years_with_gender.csv', index=True)"
   ]
  }
 ],
 "metadata": {
  "kernelspec": {
   "display_name": "Python 3",
   "language": "python",
   "name": "python3"
  },
  "language_info": {
   "codemirror_mode": {
    "name": "ipython",
    "version": 3
   },
   "file_extension": ".py",
   "mimetype": "text/x-python",
   "name": "python",
   "nbconvert_exporter": "python",
   "pygments_lexer": "ipython3",
   "version": "3.7.7"
  }
 },
 "nbformat": 4,
 "nbformat_minor": 4
}
