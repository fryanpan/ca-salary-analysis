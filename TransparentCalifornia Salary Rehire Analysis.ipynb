{
 "cells": [
  {
   "cell_type": "markdown",
   "metadata": {},
   "source": [
    "# TransparentCalifornia Cohort Analysis\n",
    "\n",
    "This notebook tries to take yearly public salary data and create cohorts over time of similar rows by grouping by\n",
    "- Year \n",
    "- Number of years employed by the State of California\n",
    "- Number of years with a Job Title\n",
    "- Job Title\n",
    "\n",
    "This, for example, puts all the 2013 salary entries for people who started state service in 2012 as \n",
    "Correctional Officers who stayed in the same job in 2013 as a cohort.\n",
    "\n",
    "This makes it possible to compare cohorts over time and try to approximately answer questions like these:\n",
    "- Did people who made below median salary in their cohort in one year continue to be below median <x> years later?\n",
    "- How substantial is the effect?\n",
    "- Is there a difference in median salary between men and women in a particular cohort?"
   ]
  },
  {
   "cell_type": "markdown",
   "metadata": {},
   "source": [
    "## Import Libraries"
   ]
  },
  {
   "cell_type": "code",
   "execution_count": 1,
   "metadata": {},
   "outputs": [
    {
     "name": "stdout",
     "output_type": "stream",
     "text": [
      "\u001b[33mWARNING: You are using pip version 19.2.3, however version 20.2.3 is available.\n",
      "You should consider upgrading via the 'pip install --upgrade pip' command.\u001b[0m\n",
      "\u001b[33mWARNING: You are using pip version 19.2.3, however version 20.2.3 is available.\n",
      "You should consider upgrading via the 'pip install --upgrade pip' command.\u001b[0m\n",
      "\u001b[33mWARNING: You are using pip version 19.2.3, however version 20.2.3 is available.\n",
      "You should consider upgrading via the 'pip install --upgrade pip' command.\u001b[0m\n"
     ]
    }
   ],
   "source": [
    "import sys\n",
    "!{sys.executable} -m pip install pandas matplotlib ipywidgets scipy pandas_profiling > /dev/null\n",
    "!{sys.executable} -m pip install genderize gender_guesser seaborn statsmodels datadotworld[pandas] > /dev/null\n",
    "!{sys.executable} -m pip install pandasql > /dev/null\n",
    "\n",
    "\n",
    "import requests\n",
    "from io import StringIO\n",
    "import pandas as pd\n",
    "from pandas_profiling import ProfileReport\n",
    "import matplotlib\n",
    "%matplotlib inline\n",
    "from genderize import Genderize\n",
    "import gender_guesser.detector as gender\n",
    "import seaborn as sns\n",
    "import matplotlib.pyplot as plt\n",
    "import statsmodels\n",
    "import datadotworld as dw\n",
    "import sqlite3\n",
    "import warnings\n",
    "from pandasql import sqldf\n",
    "warnings.simplefilter(action='ignore', category=FutureWarning)\n"
   ]
  },
  {
   "cell_type": "markdown",
   "metadata": {},
   "source": [
    "## Read in data from TransparentCalifornia"
   ]
  },
  {
   "cell_type": "code",
   "execution_count": 2,
   "metadata": {},
   "outputs": [
    {
     "name": "stdout",
     "output_type": "stream",
     "text": [
      "Year 2011 Rows 246599\n",
      "Year 2012 Rows 244881\n",
      "Year 2013 Rows 235071\n",
      "Year 2014 Rows 240531\n",
      "Year 2015 Rows 246273\n"
     ]
    },
    {
     "name": "stderr",
     "output_type": "stream",
     "text": [
      "/Users/bryanchan/.pyenv/versions/3.7.7/lib/python3.7/site-packages/IPython/core/interactiveshell.py:3146: DtypeWarning: Columns (2,3,4,5) have mixed types.Specify dtype option on import or set low_memory=False.\n",
      "  interactivity=interactivity, compiler=compiler, result=result)\n"
     ]
    },
    {
     "name": "stdout",
     "output_type": "stream",
     "text": [
      "Year 2016 Rows 248279\n",
      "Year 2017 Rows 247697\n",
      "Year 2018 Rows 253503\n",
      "Year 2019 Rows 260277\n"
     ]
    }
   ],
   "source": [
    "df = None\n",
    "for year in range(2011,2020):    \n",
    "    year_df = pd.read_csv(f'TransparentCalifornia/state-of-california-{year}.csv.zip', compression='zip')\n",
    "    for col in ['Base Pay', 'Benefits', 'Other Pay', 'Total Pay', 'Overtime Pay', 'Total Pay & Benefits']:\n",
    "        year_df[col] = pd.to_numeric(year_df[col], errors='coerce').astype('float64').round(2)\n",
    "    year_df['Job Title'] = year_df['Job Title'].str.title().str.strip()\n",
    "    year_df['Employee Name'] = year_df['Employee Name'].str.title()\n",
    "    print(f'Year {year} Rows {len(year_df)}')\n",
    "    df = year_df if df is None else df.append(year_df)"
   ]
  },
  {
   "cell_type": "code",
   "execution_count": 3,
   "metadata": {},
   "outputs": [
    {
     "name": "stdout",
     "output_type": "stream",
     "text": [
      "Employee Name            object\n",
      "Job Title                object\n",
      "Base Pay                float64\n",
      "Overtime Pay            float64\n",
      "Other Pay               float64\n",
      "Benefits                float64\n",
      "Total Pay               float64\n",
      "Total Pay & Benefits    float64\n",
      "Year                      int64\n",
      "Notes                    object\n",
      "Agency                   object\n",
      "Status                   object\n",
      "dtype: object\n"
     ]
    }
   ],
   "source": [
    "print(df.dtypes)"
   ]
  },
  {
   "cell_type": "markdown",
   "metadata": {},
   "source": [
    "# Guess at Genders from Names"
   ]
  },
  {
   "cell_type": "code",
   "execution_count": 4,
   "metadata": {},
   "outputs": [],
   "source": [
    "df['First Name'] = df['Employee Name'].str.split(n=2).str[0]"
   ]
  },
  {
   "cell_type": "code",
   "execution_count": 5,
   "metadata": {},
   "outputs": [],
   "source": [
    "d = gender.Detector()\n",
    "df['Gender'] = df['First Name'].apply(lambda name: d.get_gender(name.title()))"
   ]
  },
  {
   "cell_type": "code",
   "execution_count": 6,
   "metadata": {},
   "outputs": [
    {
     "data": {
      "text/html": [
       "<div>\n",
       "<style scoped>\n",
       "    .dataframe tbody tr th:only-of-type {\n",
       "        vertical-align: middle;\n",
       "    }\n",
       "\n",
       "    .dataframe tbody tr th {\n",
       "        vertical-align: top;\n",
       "    }\n",
       "\n",
       "    .dataframe thead th {\n",
       "        text-align: right;\n",
       "    }\n",
       "</style>\n",
       "<table border=\"1\" class=\"dataframe\">\n",
       "  <thead>\n",
       "    <tr style=\"text-align: right;\">\n",
       "      <th></th>\n",
       "      <th>First Name</th>\n",
       "      <th>Gender</th>\n",
       "    </tr>\n",
       "  </thead>\n",
       "  <tbody>\n",
       "    <tr>\n",
       "      <th>0</th>\n",
       "      <td>Mohammad</td>\n",
       "      <td>male</td>\n",
       "    </tr>\n",
       "    <tr>\n",
       "      <th>1</th>\n",
       "      <td>Gertrudis</td>\n",
       "      <td>female</td>\n",
       "    </tr>\n",
       "    <tr>\n",
       "      <th>2</th>\n",
       "      <td>Joseph</td>\n",
       "      <td>male</td>\n",
       "    </tr>\n",
       "    <tr>\n",
       "      <th>3</th>\n",
       "      <td>Thomas</td>\n",
       "      <td>male</td>\n",
       "    </tr>\n",
       "    <tr>\n",
       "      <th>4</th>\n",
       "      <td>Curtis</td>\n",
       "      <td>male</td>\n",
       "    </tr>\n",
       "    <tr>\n",
       "      <th>...</th>\n",
       "      <td>...</td>\n",
       "      <td>...</td>\n",
       "    </tr>\n",
       "    <tr>\n",
       "      <th>95</th>\n",
       "      <td>Michael</td>\n",
       "      <td>male</td>\n",
       "    </tr>\n",
       "    <tr>\n",
       "      <th>96</th>\n",
       "      <td>Theodore</td>\n",
       "      <td>male</td>\n",
       "    </tr>\n",
       "    <tr>\n",
       "      <th>97</th>\n",
       "      <td>Dennis</td>\n",
       "      <td>male</td>\n",
       "    </tr>\n",
       "    <tr>\n",
       "      <th>98</th>\n",
       "      <td>Wadsworth</td>\n",
       "      <td>unknown</td>\n",
       "    </tr>\n",
       "    <tr>\n",
       "      <th>99</th>\n",
       "      <td>Jackson</td>\n",
       "      <td>male</td>\n",
       "    </tr>\n",
       "  </tbody>\n",
       "</table>\n",
       "<p>100 rows × 2 columns</p>\n",
       "</div>"
      ],
      "text/plain": [
       "   First Name   Gender\n",
       "0    Mohammad     male\n",
       "1   Gertrudis   female\n",
       "2      Joseph     male\n",
       "3      Thomas     male\n",
       "4      Curtis     male\n",
       "..        ...      ...\n",
       "95    Michael     male\n",
       "96   Theodore     male\n",
       "97     Dennis     male\n",
       "98  Wadsworth  unknown\n",
       "99    Jackson     male\n",
       "\n",
       "[100 rows x 2 columns]"
      ]
     },
     "execution_count": 6,
     "metadata": {},
     "output_type": "execute_result"
    }
   ],
   "source": [
    "df[['First Name', 'Gender']][0:100]"
   ]
  },
  {
   "cell_type": "markdown",
   "metadata": {},
   "source": [
    "### Gender Distribution"
   ]
  },
  {
   "cell_type": "code",
   "execution_count": 7,
   "metadata": {},
   "outputs": [
    {
     "data": {
      "text/plain": [
       "<AxesSubplot:>"
      ]
     },
     "execution_count": 7,
     "metadata": {},
     "output_type": "execute_result"
    },
    {
     "data": {
      "image/png": "[encoded data removed]",
      "text/plain": [
       "<Figure size 432x288 with 1 Axes>"
      ]
     },
     "metadata": {
      "needs_background": "light"
     },
     "output_type": "display_data"
    }
   ],
   "source": [
    "df['Gender'].value_counts().plot(kind='barh')"
   ]
  },
  {
   "cell_type": "markdown",
   "metadata": {},
   "source": [
    "# Plot the Non-Adjusted Gender Gap\n",
    "Note on how to interpret this -- it's an interesting barometer, but does not by itself point towards any specific causes of disparity"
   ]
  },
  {
   "cell_type": "code",
   "execution_count": 8,
   "metadata": {},
   "outputs": [
    {
     "data": {
      "text/plain": [
       "Gender\n",
       "female           51399.610\n",
       "mostly_female    53748.000\n",
       "unknown          55787.495\n",
       "mostly_male      59676.845\n",
       "andy             60797.245\n",
       "male             63782.960\n",
       "Name: Base Pay, dtype: float64"
      ]
     },
     "execution_count": 8,
     "metadata": {},
     "output_type": "execute_result"
    }
   ],
   "source": [
    "median_salary_df = df.groupby(['Gender'])['Base Pay'].median()\n",
    "median_salary_df.sort_values()"
   ]
  },
  {
   "cell_type": "markdown",
   "metadata": {},
   "source": [
    "# Create Cohorts for Comparison\n",
    "Try to create groups of people who started with Job Title `A` in a particular year and had Job Title `B` in a later year.\n",
    "\n",
    "To avoid comparing apples to oranges, we want to only include people of roughly equal seniority in state service in the cohort.  And only want to compare people who did not switch roles in the years of interest (which makes understanding base salary difficult). \n",
    "\n",
    "Let's build cohorts step by step:"
   ]
  },
  {
   "cell_type": "markdown",
   "metadata": {},
   "source": [
    "### 1) Group to one row per Employee Name per Year"
   ]
  },
  {
   "cell_type": "code",
   "execution_count": 9,
   "metadata": {},
   "outputs": [
    {
     "name": "stdout",
     "output_type": "stream",
     "text": [
      "Initial length rows=2223111\n",
      "1) Grouped rows=2164857\n"
     ]
    }
   ],
   "source": [
    "initial_length = len(df)\n",
    "print(f'Initial length rows={len(df)}')\n",
    "\n",
    "df['Year in Job'] = df.groupby(['Employee Name', 'Job Title'])['Year'].rank(\"dense\", ascending=True)\n",
    "\n",
    "group_df = df.groupby(['Gender', 'First Name', 'Employee Name', 'Year'], as_index=False).agg(\n",
    "    total_base_pay = ('Base Pay', 'sum'), \n",
    "    job_title = ('Job Title', 'first'),\n",
    "    other_titles = ('Job Title', lambda x: '|'.join(x[1:])),\n",
    "    job_count = ('Base Pay', lambda x: len(x)),\n",
    "    benefits = ('Benefits', 'sum'),\n",
    "    other_pay = ('Other Pay', 'sum'),\n",
    "    overtime_pay = ('Overtime Pay', 'sum'),\n",
    "    total_pay = ('Total Pay', 'sum'),\n",
    "    total_pay_and_benefits = ('Total Pay & Benefits', 'sum'),\n",
    "    min_year_in_job = ('Year in Job', min),\n",
    "    max_year_in_job = ('Year in Job', max)    \n",
    ").rename(columns={\n",
    "    'total_base_pay': 'Base Pay',\n",
    "    'job_title': 'Job Title',\n",
    "    'other_titles': 'Other Job Titles',\n",
    "    'job_count': 'Job Count In Year',\n",
    "    'benefits': 'Benefits',\n",
    "    'other_pay': 'Other Pay',\n",
    "    'overtime_pay': 'Overtime Pay',\n",
    "    'total_pay': 'Total Pay',\n",
    "    'total_pay_and_benefits': 'Total Pay & Benefits',\n",
    "    'min_year_in_job': 'Min Years In Job',\n",
    "    'max_year_in_job': 'Max Years in Job'\n",
    "})\n",
    "\n",
    "print(f'1) Grouped rows={len(group_df)}')"
   ]
  },
  {
   "cell_type": "markdown",
   "metadata": {},
   "source": [
    "### 2) Identify people rehired in 2018\n",
    "   \n",
    "   "
   ]
  },
  {
   "cell_type": "code",
   "execution_count": 10,
   "metadata": {},
   "outputs": [],
   "source": [
    "def was_rehired_2018(years):\n",
    "    hired_before_2017 = len(list(filter(lambda x: x < 2017, [int(year) for year in years]))) >= 1\n",
    "    years = [str(year) for year in years]\n",
    "    not_working_in_2017 = '2017' not in years\n",
    "    working_in_2018 = '2018' in years\n",
    "    return hired_before_2017 and not_working_in_2017 and working_in_2018\n",
    "\n",
    "def is_new_2018(years):\n",
    "    return min([int(year) for year in years]) == 2018\n",
    "\n",
    "rehired_flags_df = group_df.groupby(['Employee Name'], as_index=False).agg(\n",
    "    was_rehired_2018 = ('Year', was_rehired_2018),\n",
    "    is_new_2018 = ('Year', is_new_2018),\n",
    "    years = ('Year', lambda years: ','.join([str(year) for year in years]))\n",
    ")"
   ]
  },
  {
   "cell_type": "code",
   "execution_count": 11,
   "metadata": {},
   "outputs": [
    {
     "data": {
      "text/html": [
       "<div>\n",
       "<style scoped>\n",
       "    .dataframe tbody tr th:only-of-type {\n",
       "        vertical-align: middle;\n",
       "    }\n",
       "\n",
       "    .dataframe tbody tr th {\n",
       "        vertical-align: top;\n",
       "    }\n",
       "\n",
       "    .dataframe thead th {\n",
       "        text-align: right;\n",
       "    }\n",
       "</style>\n",
       "<table border=\"1\" class=\"dataframe\">\n",
       "  <thead>\n",
       "    <tr style=\"text-align: right;\">\n",
       "      <th></th>\n",
       "      <th>Employee Name</th>\n",
       "      <th>was_rehired_2018</th>\n",
       "      <th>is_new_2018</th>\n",
       "      <th>years</th>\n",
       "    </tr>\n",
       "  </thead>\n",
       "  <tbody>\n",
       "    <tr>\n",
       "      <th>9</th>\n",
       "      <td>A Colleen Hutchins</td>\n",
       "      <td>True</td>\n",
       "      <td>False</td>\n",
       "      <td>2011,2012,2013,2014,2015,2016,2018,2019</td>\n",
       "    </tr>\n",
       "    <tr>\n",
       "      <th>218</th>\n",
       "      <td>Aaron C Via</td>\n",
       "      <td>True</td>\n",
       "      <td>False</td>\n",
       "      <td>2014,2018,2019</td>\n",
       "    </tr>\n",
       "    <tr>\n",
       "      <th>671</th>\n",
       "      <td>Aaron M Warren</td>\n",
       "      <td>True</td>\n",
       "      <td>False</td>\n",
       "      <td>2011,2012,2015,2018,2019</td>\n",
       "    </tr>\n",
       "    <tr>\n",
       "      <th>831</th>\n",
       "      <td>Aaron T Jones</td>\n",
       "      <td>True</td>\n",
       "      <td>False</td>\n",
       "      <td>2011,2012,2013,2014,2015,2018,2019</td>\n",
       "    </tr>\n",
       "    <tr>\n",
       "      <th>1213</th>\n",
       "      <td>Abel M Rivera</td>\n",
       "      <td>True</td>\n",
       "      <td>False</td>\n",
       "      <td>2011,2012,2013,2014,2015,2016,2018,2019</td>\n",
       "    </tr>\n",
       "    <tr>\n",
       "      <th>...</th>\n",
       "      <td>...</td>\n",
       "      <td>...</td>\n",
       "      <td>...</td>\n",
       "      <td>...</td>\n",
       "    </tr>\n",
       "    <tr>\n",
       "      <th>418002</th>\n",
       "      <td>Zachary D Hadley</td>\n",
       "      <td>True</td>\n",
       "      <td>False</td>\n",
       "      <td>2013,2014,2015,2016,2018,2019</td>\n",
       "    </tr>\n",
       "    <tr>\n",
       "      <th>418070</th>\n",
       "      <td>Zachary J Cooke</td>\n",
       "      <td>True</td>\n",
       "      <td>False</td>\n",
       "      <td>2013,2014,2018,2019</td>\n",
       "    </tr>\n",
       "    <tr>\n",
       "      <th>418964</th>\n",
       "      <td>Zia Zaheer</td>\n",
       "      <td>True</td>\n",
       "      <td>False</td>\n",
       "      <td>2015,2016,2018,2019</td>\n",
       "    </tr>\n",
       "    <tr>\n",
       "      <th>419136</th>\n",
       "      <td>Zoraida Lc Barnes</td>\n",
       "      <td>True</td>\n",
       "      <td>False</td>\n",
       "      <td>2012,2013,2014,2015,2018,2019</td>\n",
       "    </tr>\n",
       "    <tr>\n",
       "      <th>419198</th>\n",
       "      <td>Zulma Y Lopez</td>\n",
       "      <td>True</td>\n",
       "      <td>False</td>\n",
       "      <td>2011,2012,2013,2014,2015,2016,2018,2019</td>\n",
       "    </tr>\n",
       "  </tbody>\n",
       "</table>\n",
       "<p>2239 rows × 4 columns</p>\n",
       "</div>"
      ],
      "text/plain": [
       "             Employee Name  was_rehired_2018  is_new_2018  \\\n",
       "9       A Colleen Hutchins              True        False   \n",
       "218            Aaron C Via              True        False   \n",
       "671         Aaron M Warren              True        False   \n",
       "831          Aaron T Jones              True        False   \n",
       "1213         Abel M Rivera              True        False   \n",
       "...                    ...               ...          ...   \n",
       "418002    Zachary D Hadley              True        False   \n",
       "418070     Zachary J Cooke              True        False   \n",
       "418964          Zia Zaheer              True        False   \n",
       "419136   Zoraida Lc Barnes              True        False   \n",
       "419198       Zulma Y Lopez              True        False   \n",
       "\n",
       "                                          years  \n",
       "9       2011,2012,2013,2014,2015,2016,2018,2019  \n",
       "218                              2014,2018,2019  \n",
       "671                    2011,2012,2015,2018,2019  \n",
       "831          2011,2012,2013,2014,2015,2018,2019  \n",
       "1213    2011,2012,2013,2014,2015,2016,2018,2019  \n",
       "...                                         ...  \n",
       "418002            2013,2014,2015,2016,2018,2019  \n",
       "418070                      2013,2014,2018,2019  \n",
       "418964                      2015,2016,2018,2019  \n",
       "419136            2012,2013,2014,2015,2018,2019  \n",
       "419198  2011,2012,2013,2014,2015,2016,2018,2019  \n",
       "\n",
       "[2239 rows x 4 columns]"
      ]
     },
     "execution_count": 11,
     "metadata": {},
     "output_type": "execute_result"
    }
   ],
   "source": [
    "rehired_flags_df[rehired_flags_df['was_rehired_2018'] == True]"
   ]
  },
  {
   "cell_type": "code",
   "execution_count": 12,
   "metadata": {
    "scrolled": false
   },
   "outputs": [
    {
     "data": {
      "text/html": [
       "<div>\n",
       "<style scoped>\n",
       "    .dataframe tbody tr th:only-of-type {\n",
       "        vertical-align: middle;\n",
       "    }\n",
       "\n",
       "    .dataframe tbody tr th {\n",
       "        vertical-align: top;\n",
       "    }\n",
       "\n",
       "    .dataframe thead th {\n",
       "        text-align: right;\n",
       "    }\n",
       "</style>\n",
       "<table border=\"1\" class=\"dataframe\">\n",
       "  <thead>\n",
       "    <tr style=\"text-align: right;\">\n",
       "      <th></th>\n",
       "      <th>Employee Name</th>\n",
       "      <th>was_rehired_2018</th>\n",
       "      <th>is_new_2018</th>\n",
       "      <th>years</th>\n",
       "    </tr>\n",
       "  </thead>\n",
       "  <tbody>\n",
       "    <tr>\n",
       "      <th>7</th>\n",
       "      <td>A C Saelee</td>\n",
       "      <td>False</td>\n",
       "      <td>True</td>\n",
       "      <td>2018,2019</td>\n",
       "    </tr>\n",
       "    <tr>\n",
       "      <th>44</th>\n",
       "      <td>Aadilah Louis</td>\n",
       "      <td>False</td>\n",
       "      <td>True</td>\n",
       "      <td>2018,2019</td>\n",
       "    </tr>\n",
       "    <tr>\n",
       "      <th>52</th>\n",
       "      <td>Aaliyah T Ozturk</td>\n",
       "      <td>False</td>\n",
       "      <td>True</td>\n",
       "      <td>2018,2019</td>\n",
       "    </tr>\n",
       "    <tr>\n",
       "      <th>57</th>\n",
       "      <td>Aamir Khan</td>\n",
       "      <td>False</td>\n",
       "      <td>True</td>\n",
       "      <td>2018,2019</td>\n",
       "    </tr>\n",
       "    <tr>\n",
       "      <th>58</th>\n",
       "      <td>Aanchal Kohli</td>\n",
       "      <td>False</td>\n",
       "      <td>True</td>\n",
       "      <td>2018,2019</td>\n",
       "    </tr>\n",
       "    <tr>\n",
       "      <th>...</th>\n",
       "      <td>...</td>\n",
       "      <td>...</td>\n",
       "      <td>...</td>\n",
       "      <td>...</td>\n",
       "    </tr>\n",
       "    <tr>\n",
       "      <th>419175</th>\n",
       "      <td>Zuleima Bernal</td>\n",
       "      <td>False</td>\n",
       "      <td>True</td>\n",
       "      <td>2018</td>\n",
       "    </tr>\n",
       "    <tr>\n",
       "      <th>419199</th>\n",
       "      <td>Zulma Y Santos</td>\n",
       "      <td>False</td>\n",
       "      <td>True</td>\n",
       "      <td>2018,2019</td>\n",
       "    </tr>\n",
       "    <tr>\n",
       "      <th>419208</th>\n",
       "      <td>Zuri Abajian</td>\n",
       "      <td>False</td>\n",
       "      <td>True</td>\n",
       "      <td>2018,2019</td>\n",
       "    </tr>\n",
       "    <tr>\n",
       "      <th>419213</th>\n",
       "      <td>Zurisadai Morales</td>\n",
       "      <td>False</td>\n",
       "      <td>True</td>\n",
       "      <td>2018,2019</td>\n",
       "    </tr>\n",
       "    <tr>\n",
       "      <th>419219</th>\n",
       "      <td>Zvonimir Sola</td>\n",
       "      <td>False</td>\n",
       "      <td>True</td>\n",
       "      <td>2018,2019</td>\n",
       "    </tr>\n",
       "  </tbody>\n",
       "</table>\n",
       "<p>22727 rows × 4 columns</p>\n",
       "</div>"
      ],
      "text/plain": [
       "            Employee Name  was_rehired_2018  is_new_2018      years\n",
       "7              A C Saelee             False         True  2018,2019\n",
       "44          Aadilah Louis             False         True  2018,2019\n",
       "52       Aaliyah T Ozturk             False         True  2018,2019\n",
       "57             Aamir Khan             False         True  2018,2019\n",
       "58          Aanchal Kohli             False         True  2018,2019\n",
       "...                   ...               ...          ...        ...\n",
       "419175     Zuleima Bernal             False         True       2018\n",
       "419199     Zulma Y Santos             False         True  2018,2019\n",
       "419208       Zuri Abajian             False         True  2018,2019\n",
       "419213  Zurisadai Morales             False         True  2018,2019\n",
       "419219      Zvonimir Sola             False         True  2018,2019\n",
       "\n",
       "[22727 rows x 4 columns]"
      ]
     },
     "execution_count": 12,
     "metadata": {},
     "output_type": "execute_result"
    }
   ],
   "source": [
    "rehired_flags_df[rehired_flags_df['is_new_2018'] == True]"
   ]
  },
  {
   "cell_type": "markdown",
   "metadata": {},
   "source": [
    "### 3) Remove rows where there is more than one job or person"
   ]
  },
  {
   "cell_type": "code",
   "execution_count": 13,
   "metadata": {
    "scrolled": true
   },
   "outputs": [
    {
     "name": "stdout",
     "output_type": "stream",
     "text": [
      "3) Removed with more than one job or person rows=2120742\n"
     ]
    }
   ],
   "source": [
    "filtered_df = group_df[group_df['Job Count In Year'] == 1]\n",
    "print(f'3) Removed with more than one job or person rows={len(filtered_df)}')"
   ]
  },
  {
   "cell_type": "markdown",
   "metadata": {},
   "source": [
    "### 4) Keep only data for 2019"
   ]
  },
  {
   "cell_type": "code",
   "execution_count": 14,
   "metadata": {},
   "outputs": [
    {
     "name": "stdout",
     "output_type": "stream",
     "text": [
      "4) Keep only 2019 rows=246524\n"
     ]
    }
   ],
   "source": [
    "filtered_df = filtered_df[filtered_df['Year'] == 2019]\n",
    "print(f'4) Keep only 2019 rows={len(filtered_df)}')"
   ]
  },
  {
   "cell_type": "markdown",
   "metadata": {},
   "source": [
    "### 5) Join rehired flags to data\n",
    "   "
   ]
  },
  {
   "cell_type": "code",
   "execution_count": 15,
   "metadata": {},
   "outputs": [
    {
     "name": "stdout",
     "output_type": "stream",
     "text": [
      "5) Join rehired flags to data rows=246524\n"
     ]
    }
   ],
   "source": [
    "df_with_flags = filtered_df.merge(rehired_flags_df, how='left', on='Employee Name')\n",
    "print(f'5) Join rehired flags to data rows={len(filtered_df)}')"
   ]
  },
  {
   "cell_type": "markdown",
   "metadata": {},
   "source": [
    "### 6) Keep only people who were new in 2018"
   ]
  },
  {
   "cell_type": "code",
   "execution_count": 16,
   "metadata": {},
   "outputs": [
    {
     "name": "stdout",
     "output_type": "stream",
     "text": [
      "6) Keep only new people in 2018 rows=19699\n"
     ]
    }
   ],
   "source": [
    "output_df = df_with_flags[df_with_flags['was_rehired_2018'] | df_with_flags['is_new_2018']]\n",
    "print(f'6) Keep only new people in 2018 rows={len(output_df)}')"
   ]
  },
  {
   "cell_type": "markdown",
   "metadata": {},
   "source": [
    "## Save Data"
   ]
  },
  {
   "cell_type": "code",
   "execution_count": 17,
   "metadata": {},
   "outputs": [],
   "source": [
    "output_df.to_csv('rehired_cohort.csv', index=True)"
   ]
  }
 ],
 "metadata": {
  "kernelspec": {
   "display_name": "Python 3",
   "language": "python",
   "name": "python3"
  },
  "language_info": {
   "codemirror_mode": {
    "name": "ipython",
    "version": 3
   },
   "file_extension": ".py",
   "mimetype": "text/x-python",
   "name": "python",
   "nbconvert_exporter": "python",
   "pygments_lexer": "ipython3",
   "version": "3.7.7"
  }
 },
 "nbformat": 4,
 "nbformat_minor": 4
}
